{
  "cells": [
    {
      "cell_type": "markdown",
      "metadata": {
        "id": "emjAQ_34SozP",
        "tags": []
      },
      "source": [
        "# Programming Assignment 1"
      ]
    },
    {
      "cell_type": "markdown",
      "metadata": {
        "id": "tKkKCHwsSozQ"
      },
      "source": [
        "In this programming assignment, you will implement a linear regression model and a logistic regression model.\n",
        "\n",
        "In Part 1, you have to implement a linear regression model to predict the price of a house based on various input features.\n",
        "\n",
        "In Part 2, you have to implement a logistic regression model to predict the species of a grain using various morphological features.\n",
        "\n",
        "The assignment zip file (ML_Assignment_1.zip) contains 4 datasets which will be used in this assignment.\n",
        "\n",
        "You have to write your code in this jupyter notebook and submit the solved jupyter notebook with the file name \\<Roll_No\\>_A1.ipynb for evaluation. You have to enter your code only in those cells which are marked as ```## CODE REQUIRED ##```, and you have to write your code only between ```### START CODE HERE ###``` and ```### END CODE HERE ###``` comments."
      ]
    },
    {
      "cell_type": "markdown",
      "metadata": {
        "id": "jHPf8pHpSozR"
      },
      "source": [
        "## Part 1: Linear Regression\n",
        "\n",
        "### Problem Statement  \n",
        "A real estate company is building a machine learning model to determine the price of a house. The model will take various information regarding a house as input features and predict the price per unit area. They decided to use the linear regression as the machine learning model. Your task is to help the company to build the model.\n",
        "Given various features of a house, you will create a linear regression model to predict the price of the house.\n",
        "\n",
        "### Data Description\n",
        "\n",
        "**For Even Roll Number Students:**\n",
        "\n",
        "Dataset Filename: Taiwan_House.csv\n",
        "\n",
        "Attributes Information:\n",
        "1. Transaction date\n",
        "2. House age\n",
        "3. Distance to the nearest MRT station\n",
        "4. Number of convenience stores\n",
        "5. Latitude\n",
        "6. Longitude\n",
        "\n",
        "Target variable: house price of unit area\n",
        "\n",
        "**For Odd Roll Number Students:**\n",
        "\n",
        "Dataset Filename: Boston_House.csv\n",
        "\n",
        "Attributes Information:\n",
        "1. CRIM: per capita crime rate by town\n",
        "2. ZN: proportion of residential land zoned for lots over 25,000 sq.ft.\n",
        "3. INDUS: proportion of non-­retail business acres per town\n",
        "4. CHAS: Charles River dummy variable (= 1 if tract bounds river; 0 otherwise)\n",
        "5. NOX: nitric oxides concentration (parts per 10 million)\n",
        "6. RM: average number of rooms per dwelling\n",
        "7. AGE: proportion of owner­occupied units built prior to 1940\n",
        "8. DIS: weighted distances to five Boston employment centres\n",
        "9. RAD: index of accessibility to radial highways\n",
        "10. TAX: full-­value property-­tax rate per $10,000\n",
        "\n",
        "11. PTRATIO: pupil-­teacher ratio by town\n",
        "12. B: 1000(Bk ­- 0.63)^2 where Bk is the proportion of blacks by town\n",
        "13. LSTAT: % lower status of the population\n",
        "\n",
        "Target Variable: MEDV: Median value of owner-­occupied homes in $1000's\n",
        "\n",
        "\n",
        "These are the following steps or functions that you have to complete to create and train the linear regression model:\n",
        "1. Reading the data\n",
        "2. Computing the loss function\n",
        "3. Computing the gradient of the loss\n",
        "4. Training the model using Batch Gradient Descent\n"
      ]
    },
    {
      "cell_type": "code",
      "execution_count": 272,
      "metadata": {
        "id": "rJDNL8y8SozR",
        "tags": []
      },
      "outputs": [],
      "source": [
        "import numpy as np\n",
        "import pandas as pd\n",
        "import matplotlib.pyplot as plt\n",
        "import copy\n",
        "import math\n",
        "import random"
      ]
    },
    {
      "cell_type": "markdown",
      "metadata": {
        "id": "S5ExYIXiSozS"
      },
      "source": [
        "### 1.1. Reading the data"
      ]
    },
    {
      "cell_type": "markdown",
      "metadata": {
        "id": "FgnxuEDkSozS"
      },
      "source": [
        "In the following function ```load_data```, you have to read the data from the file and store the data into a pandas dataframe. Then you have to create two numpy arrays $X$ and $y$ from the dataframe:\n",
        "\n",
        "+ $X$: Input data of the shape (number of samples, number of input features)\n",
        "+ $y$: Target variable of the shape (number of samples,)\n"
      ]
    },
    {
      "cell_type": "code",
      "execution_count": 539,
      "metadata": {
        "id": "DEal5SFmSozS",
        "tags": []
      },
      "outputs": [
        {
          "name": "stdout",
          "output_type": "stream",
          "text": [
            "Shape of X:  (414, 6) Shape of y:  (414,)\n"
          ]
        }
      ],
      "source": [
        "## CODE REQUIRED ##\n",
        "\n",
        "def load_data(filepath):\n",
        "    \"\"\"\n",
        "    This function loads the data into a pandas dataframe and coverts it into X and y numpy arrays\n",
        "\n",
        "    Args:\n",
        "        filepath: File path as a string\n",
        "    Returns:\n",
        "        X: Input data of the shape (# of samples, # of input features)\n",
        "        y: Target variable of the shape (# of sample,)\n",
        "    \"\"\"\n",
        "\n",
        "    ### START CODE HERE ###\n",
        "    df = pd.read_csv(filepath)\n",
        "    \n",
        "    x_attr = df[['transaction date','house age','distance to the nearest MRT station','number of convenience stores','latitude','longitude']]\n",
        "    X = x_attr.to_numpy()\n",
        "    y_attr = df['house price of unit area']\n",
        "    y = y_attr.to_numpy()\n",
        "    ### END CODE HERE ###\n",
        "\n",
        "    return X,y\n",
        "\n",
        "filepath = None\n",
        "### START CODE HERE ###\n",
        "## set the file path\n",
        "filepath=\"Taiwan_House.csv\"\n",
        "### END CODE HERE ###\n",
        "X, y = load_data(filepath)\n",
        "\n",
        "print(\"Shape of X: \",X.shape, \"Shape of y: \",y.shape)"
      ]
    },
    {
      "cell_type": "markdown",
      "metadata": {
        "id": "se3Qrch5PoIO"
      },
      "source": [
        "We will not use all the features from ```X```.\n",
        "\n",
        "**For Even Roll Number Students:**\n",
        "Set the last two digits of your roll number as the random seed and pick a number ``r`` between 3 and 6 (both inclusive) randomly. Use the first ```r``` features of the numpy array ```X```.\n",
        "\n",
        "**For Odd Roll Number Students:**\n",
        "Set the last two digits of your roll number as the random seed and pick a number ``r`` between 9 and 13 (both inclusive) randomly. Use the first ```r``` features of the numpy array ```X```.\n"
      ]
    },
    {
      "cell_type": "code",
      "execution_count": 540,
      "metadata": {
        "id": "mnRd0p8LtRJ5"
      },
      "outputs": [
        {
          "name": "stdout",
          "output_type": "stream",
          "text": [
            "Shape of X:  (414, 4) Shape of y:  (414,)\n"
          ]
        }
      ],
      "source": [
        "## CODE REQUIRED ##\n",
        "\n",
        "def random_feature_selection(X):\n",
        "    \"\"\"\n",
        "    For Even Roll Number Students: Set the last two digits of your roll number as the random seed and pick a number r\n",
        "    between 3 and 6 randomly. Use the first ```r``` features of the numpy array X.\n",
        "    For Odd Roll Number Students: Set the last two digits of your roll number as the random seed and pick a number r\n",
        "    between 9 and 13 randomly. Use the first ```r``` features of the numpy array X.\n",
        "    Args:\n",
        "        X: Input data of the shape (# of samples, # of input features)\n",
        "    Returns:\n",
        "        X_new: New input data of the shape (# of samples, r) containg only the first r features from X\n",
        "    \"\"\"\n",
        "\n",
        "    X_new = None\n",
        "\n",
        "    ### START CODE HERE ###\n",
        "    np.random.seed(32)\n",
        "    r = random.randint(3,6)\n",
        "\n",
        "    X_new = X[:, :r]\n",
        "\n",
        "    ### END CODE HERE ###\n",
        "\n",
        "    return X_new\n",
        "\n",
        "X = random_feature_selection(X)\n",
        "\n",
        "print(\"Shape of X: \",X.shape, \"Shape of y: \",y.shape)"
      ]
    },
    {
      "cell_type": "markdown",
      "metadata": {
        "id": "4FAc8UixtqLS"
      },
      "source": [
        "We need to pre-process the data. We are using min-max scaler to scale the input data ($X$).\n",
        "\n",
        "After that, we split the data (```X``` and ```y```) into a training dataset (```X_train``` and ```y_train```) and test dataset (```X_test``` and ```y_test```)."
      ]
    },
    {
      "cell_type": "code",
      "execution_count": 541,
      "metadata": {
        "id": "LLmD1I3-SozT",
        "tags": []
      },
      "outputs": [
        {
          "name": "stdout",
          "output_type": "stream",
          "text": [
            "Shape of X_train:  (310, 4) Shape of y_train:  (310,)\n",
            "Shape of X_test:  (104, 4) Shape of y_test:  (104,)\n"
          ]
        }
      ],
      "source": [
        "## Data scaling and train-test split\n",
        "\n",
        "def train_test_split(X, y, test_size=0.25, random_state=None):\n",
        "    if random_state is not None:\n",
        "        np.random.seed(random_state)\n",
        "    indices = np.arange(X.shape[0])\n",
        "    np.random.shuffle(indices)\n",
        "\n",
        "    split_index = int(X.shape[0] * (1 - test_size))\n",
        "\n",
        "    train_indices = indices[:split_index]\n",
        "    test_indices = indices[split_index:]\n",
        "\n",
        "    X_train = X[train_indices]\n",
        "    X_test = X[test_indices]\n",
        "    y_train = y[train_indices]\n",
        "    y_test = y[test_indices]\n",
        "\n",
        "    return X_train, X_test, y_train, y_test\n",
        "\n",
        "def min_max_scaler(X, feature_range=(0, 1)):\n",
        "    X_min = np.min(X, axis=0)\n",
        "    X_max = np.max(X, axis=0)\n",
        "    \n",
        "    X_scaled = (X-X_min)/(X_max-X_min)\n",
        "   \n",
        "    return X_scaled\n",
        "\n",
        "\n",
        "X = min_max_scaler(X)\n",
        "X_train, X_test, y_train, y_test = train_test_split(X, y, test_size=0.25, random_state=42)\n",
        "print(\"Shape of X_train: \",X_train.shape, \"Shape of y_train: \",y_train.shape)\n",
        "print(\"Shape of X_test: \",X_test.shape, \"Shape of y_test: \",y_test.shape)"
      ]
    },
    {
      "cell_type": "markdown",
      "metadata": {
        "id": "xrFEUV2-SozU"
      },
      "source": [
        "### 1.2. Computing the Loss Function"
      ]
    },
    {
      "cell_type": "markdown",
      "metadata": {
        "id": "I1BC0TPCSozU"
      },
      "source": [
        "In linear regression, the model parameters are:\n",
        "\n",
        "+ $w$: Parameters of the linear regression model (excluding the bias) of the shape (1, number of features)\n",
        "\n",
        "+ $b$: Bias parameter (scalar) of the linear regression model\n",
        "\n",
        "Both $w$ and $b$ are numpy arrays.\n",
        "\n",
        "Given the model parameters $w$ and $b$, the prediction for an input sample $X^i$ is:\n",
        "$$h_{w,b}(X^i) = w \\cdot X^i + b$$\n",
        "where $X^i$ is the $i^{th}$ training sample with shape (number of features,1)\n",
        "\n",
        "For linear regression, you have to implement and compute Mean Squarred Error loss fucntion:\n",
        "$$ L_{w,b}(X) = \\sum_{i=1}^{m}(y^i - h_{w,b}(X^i))^2 $$\n",
        "where $y^i$ is the true target value for the $i^{th}$ sample and $h_{w,b}(X^i)$ is the predicted value for the $i^{th}$ sample using the parameters $w$ and $b$.\n",
        "\n",
        "$w$ is the list of parameters excluding the bias and $b$ is the bias term."
      ]
    },
    {
      "cell_type": "code",
      "execution_count": 578,
      "metadata": {
        "id": "t6GqZMlYSozV",
        "tags": []
      },
      "outputs": [],
      "source": [
        "## CODE REQUIRED ##\n",
        "\n",
        "def loss_function(X, y, w, b):\n",
        "    \"\"\"\n",
        "    Computes the cost function for linear regression.\n",
        "\n",
        "    Args:\n",
        "        X: Input data of the shape (# of training samples, # of input features)\n",
        "        y: Target variable of the shape (# of training sample,)\n",
        "        w: Parameters of the linear regression model (excluding the bias) of the shape (1, number of features)\n",
        "        b: Bias parameter (scalar) of the linear regression model\n",
        "\n",
        "    Returns\n",
        "        loss: The loss function value of using w and b as the parameters to fit the data points in X and y\n",
        "    \"\"\"\n",
        "    # number of training examples\n",
        "    m = X.shape[0]\n",
        "\n",
        "    ### START CODE HERE ###\n",
        "    loss = 0\n",
        "    y_pred = np.dot(X,w.T)+b\n",
        "    for i in range(m):\n",
        "        loss += (y_pred[i]-y[i])**2\n",
        "    \n",
        "    loss/=2*m\n",
        "    ### END CODE HERE ###\n",
        "\n",
        "    return loss"
      ]
    },
    {
      "cell_type": "markdown",
      "metadata": {
        "id": "l0h7jhxGSozV"
      },
      "source": [
        "### 1.3. Comptuing the Gradient of the Loss\n",
        "\n",
        "In this following function ```compute_gradient```, you have to compute the gradients $\\frac{\\partial L}{\\partial w}$ and $\\frac{\\partial L}{\\partial b}$ of the loss $L$ w.r.t. $w$ and $b$. More specifically, you have to iterate over every training example and compute the gradients of the loss for that training example. Finally, aggregate the gradient values for all the training examples and take the average. The gradients can be computed as:\n",
        "$$\\frac{\\partial L}{\\partial w} = \\frac{1}{m} \\sum_{i=1}^m (h_{w,b}(X^i)-y^i)X^i$$\n",
        "\n",
        "$$\\frac{\\partial L}{\\partial b} = \\frac{1}{m} \\sum_{i=1}^{m} (h_{w,b}(X^i)-y^i)$$\n"
      ]
    },
    {
      "cell_type": "code",
      "execution_count": 579,
      "metadata": {
        "id": "do-IiCTZSozV",
        "tags": []
      },
      "outputs": [],
      "source": [
        "## CODE REQUIRED ##\n",
        "\n",
        "def compute_gradient(X, y, w, b):\n",
        "    \"\"\"\n",
        "    Computes the gradient values\n",
        "    Args:\n",
        "       X: Input data of the shape (# of training samples, # of input features)\n",
        "       y: Target variable of the shape (# of training sample,)\n",
        "       w: Parameters of the linear regression model (excluding the bias) of the shape (1, number of features)\n",
        "       b: Bias parameter of the linear regression model of the shape (1,1) or a scaler\n",
        "    Returns:\n",
        "       dL_dw : The gradient of the cost w.r.t. the parameters w with shape same as w\n",
        "       dL_db : The gradient of the cost w.r.t. the parameter b with shape same as b\n",
        "    \"\"\"\n",
        "\n",
        "   # Number of training examples\n",
        "    m = X.shape[0]\n",
        "\n",
        "    predictions = np.dot(X, w.T) + b\n",
        "\n",
        "    errors = predictions - y.reshape(-1, 1)\n",
        "\n",
        "    dL_dw = np.dot(errors.T, X) / m\n",
        "    dL_db = np.sum(errors) / m\n",
        "    \n",
        "    \n",
        "    ### END CODE HERE ###\n",
        "    return dL_dw, dL_db"
      ]
    },
    {
      "cell_type": "markdown",
      "metadata": {
        "id": "uYL1jWaZSozV"
      },
      "source": [
        "### 1.4. Training the Model using Batch Gradient Descent"
      ]
    },
    {
      "cell_type": "markdown",
      "metadata": {
        "id": "2vwyRzWqSozV"
      },
      "source": [
        "Finally, you have to implement the batch gradient descent algorithm to train and learn the parameters of the linear regression model. You have to use ```loss_function``` and ```compute_gradient``` functions that you have implemented earlier in this assignment.\n",
        "\n",
        "In this ```batch_gradient_descent``` function, you have to compute the gradient for the training samples and update the parameters $w$ and $b$ in every iteration:\n",
        "\n",
        "+ $w \\leftarrow w - \\alpha \\frac{\\partial L}{\\partial w}$\n",
        "\n",
        "+ $b \\leftarrow b - \\alpha \\frac{\\partial L}{\\partial b}$\n",
        "\n",
        "Additionally, you have compute the loss function values in every iteration and store it in the list variable ```loss_hist``` and print the loss value after every 100 iterations during the training process."
      ]
    },
    {
      "cell_type": "code",
      "execution_count": 580,
      "metadata": {
        "id": "UHKldb3hSozV",
        "tags": []
      },
      "outputs": [],
      "source": [
        "## CODE REQUIRED ##\n",
        "\n",
        "def batch_gradient_descent(X, y, w_initial, b_initial, alpha, num_iters):\n",
        "    \"\"\"\n",
        "    Batch gradient descent to learn the parameters (w and b) of the linear regression model and to print loss values\n",
        "    every 100 iterations\n",
        "\n",
        "    Args:\n",
        "        X: Input data of the shape (# of training samples, # of input features)\n",
        "        y: Target variable of the shape (# of training sample,)\n",
        "        w_initial: Initial parameters of the linear regression model (excluding the bias) of the shape (1, number of features)\n",
        "        b_initial: Initial bias parameter (scalar) of the linear regression model\n",
        "        alpha: Learning rate\n",
        "        num_iters: number of iterations\n",
        "    Returns\n",
        "        w: Updated values of parameters of the model after training\n",
        "        b: Updated bias of the model after training\n",
        "        loss_hist: List of loss values for every iteration\n",
        "    \"\"\"\n",
        "\n",
        "    # number of training examples\n",
        "    m = X.shape[0]\n",
        "\n",
        "    # to store loss values for every iteation as a list and print loss value after every 100 iterations\n",
        "    loss_hist = []\n",
        "\n",
        "    # Initialize parameters\n",
        "    w = copy.deepcopy(w_initial) ## deepcopy is used so that the updates do not change the initial variable values\n",
        "    b = b_initial\n",
        "\n",
        "    ### START CODE HERE ###\n",
        "    for i in range(num_iters):\n",
        "        dw,db = compute_gradient(X,y,w,b)\n",
        "\n",
        "        w-=alpha*dw\n",
        "        b-=alpha*db\n",
        "\n",
        "        loss = loss_function(X,y,w,b)\n",
        "        loss_hist.append(loss)\n",
        "\n",
        "        if i%100==0:\n",
        "            print(f\"Iteration {i}: {loss}\")        \n",
        "\n",
        "\n",
        "    ### END CODE HERE ###\n",
        "\n",
        "    return w, b, loss_hist"
      ]
    },
    {
      "cell_type": "markdown",
      "metadata": {
        "id": "y0h3DUMwNocp"
      },
      "source": [
        "Now you have to intialize the model parameters ($w$ and $b$) and learning rate (```alpha```). The learning rate ```alpha``` has to be randomly initialized between 0.0001 and 0.001. For the learning rate, you have to first set the last two digits of your roll number as the random seed using ```random.seed()``` function."
      ]
    },
    {
      "cell_type": "code",
      "execution_count": 581,
      "metadata": {
        "id": "Xd8QFReNDyGs"
      },
      "outputs": [],
      "source": [
        "## CODE REQUIRED ##\n",
        "\n",
        "## set the last two digits of your roll number as the random seed\n",
        "random_seed = None\n",
        "### START CODE HERE ###\n",
        "random_seed = 32\n",
        "### END CODE HERE ###\n",
        "np.random.seed(random_seed)\n",
        "\n",
        "def initialize_parameters():\n",
        "    \"\"\"\n",
        "    This function randomly initializes the model parameters (w and b) and the hyperparameter alpha\n",
        "    Initial w and b should be randomly sampled from a normal distribution with mean 0\n",
        "    alpha should be randomly initialized between 0.0001 and 0.001 by using last two digits of your roll number as the random seed\n",
        "    Args:\n",
        "        None\n",
        "    Returns:\n",
        "        initial_w: Initial parameters of the linear regression model (excluding the bias) of the shape (1, number of features)\n",
        "        initial_b: Initial bias parameter (scalar) of the linear regression model\n",
        "        alpha: Learning rate\n",
        "    \"\"\"\n",
        "\n",
        "    initial_w = None\n",
        "    initial_b = None\n",
        "    alpha = None\n",
        "\n",
        "    ### START CODE HERE ###\n",
        "    np.random.seed(seed=random_seed)\n",
        "    initial_w = np.random.normal(0,1,size=(1,X_train.shape[1]))\n",
        "\n",
        "    initial_b=np.random.normal(0,1)\n",
        "    alpha = np.random.uniform(0.0001,0.001)\n",
        "\n",
        "    ### END CODE HERE ###\n",
        "\n",
        "    return initial_w,initial_b,alpha\n"
      ]
    },
    {
      "cell_type": "markdown",
      "metadata": {
        "id": "l7nt5VdORUEu"
      },
      "source": [
        "In the next cell, the model is trained using batch gradient descent algorithm for ```num_iters=10000``` iterations. You can change the number of iterations to check any improvements in the performance."
      ]
    },
    {
      "cell_type": "code",
      "execution_count": 582,
      "metadata": {
        "id": "9rAYubtASozV",
        "tags": []
      },
      "outputs": [
        {
          "name": "stdout",
          "output_type": "stream",
          "text": [
            "Iteration 0: [754.74629459]\n",
            "Iteration 100: [713.69234755]\n",
            "Iteration 200: [675.139479]\n",
            "Iteration 300: [638.93486343]\n",
            "Iteration 400: [604.93501502]\n",
            "Iteration 500: [573.00521687]\n",
            "Iteration 600: [543.01898509]\n",
            "Iteration 700: [514.85756565]\n",
            "Iteration 800: [488.40946197]\n",
            "Iteration 900: [463.56999139]\n",
            "Iteration 1000: [440.24086876]\n",
            "Iteration 1100: [418.32981544]\n",
            "Iteration 1200: [397.75019221]\n",
            "Iteration 1300: [378.42065467]\n",
            "Iteration 1400: [360.2648296]\n",
            "Iteration 1500: [343.21101118]\n",
            "Iteration 1600: [327.19187574]\n",
            "Iteration 1700: [312.14421394]\n",
            "Iteration 1800: [298.00867935]\n",
            "Iteration 1900: [284.72955235]\n",
            "Iteration 2000: [272.25451847]\n",
            "Iteration 2100: [260.53446035]\n",
            "Iteration 2200: [249.52326226]\n",
            "Iteration 2300: [239.17762673]\n",
            "Iteration 2400: [229.45690231]\n",
            "Iteration 2500: [220.32292179]\n",
            "Iteration 2600: [211.73985049]\n",
            "Iteration 2700: [203.67404361]\n",
            "Iteration 2800: [196.09391246]\n",
            "Iteration 2900: [188.96979877]\n",
            "Iteration 3000: [182.27385673]\n",
            "Iteration 3100: [175.97994222]\n",
            "Iteration 3200: [170.06350881]\n",
            "Iteration 3300: [164.50151013]\n",
            "Iteration 3400: [159.27230817]\n",
            "Iteration 3500: [154.35558726]\n",
            "Iteration 3600: [149.73227318]\n",
            "Iteration 3700: [145.38445736]\n",
            "Iteration 3800: [141.29532562]\n",
            "Iteration 3900: [137.44909127]\n",
            "Iteration 4000: [133.83093233]\n",
            "Iteration 4100: [130.42693259]\n",
            "Iteration 4200: [127.22402622]\n",
            "Iteration 4300: [124.20994583]\n",
            "Iteration 4400: [121.37317365]\n",
            "Iteration 4500: [118.70289575]\n",
            "Iteration 4600: [116.18895899]\n",
            "Iteration 4700: [113.82183065]\n",
            "Iteration 4800: [111.59256053]\n",
            "Iteration 4900: [109.49274534]\n",
            "Iteration 5000: [107.51449525]\n",
            "Iteration 5100: [105.65040256]\n",
            "Iteration 5200: [103.8935122]\n",
            "Iteration 5300: [102.23729406]\n",
            "Iteration 5400: [100.67561707]\n",
            "Iteration 5500: [99.20272475]\n",
            "Iteration 5600: [97.81321237]\n",
            "Iteration 5700: [96.50200541]\n",
            "Iteration 5800: [95.26433943]\n",
            "Iteration 5900: [94.09574105]\n",
            "Iteration 6000: [92.99201025]\n",
            "Iteration 6100: [91.94920357]\n",
            "Iteration 6200: [90.96361852]\n",
            "Iteration 6300: [90.03177879]\n",
            "Iteration 6400: [89.15042044]\n",
            "Iteration 6500: [88.31647896]\n",
            "Iteration 6600: [87.52707703]\n",
            "Iteration 6700: [86.77951311]\n",
            "Iteration 6800: [86.07125069]\n",
            "Iteration 6900: [85.39990821]\n",
            "Iteration 7000: [84.76324957]\n",
            "Iteration 7100: [84.15917529]\n",
            "Iteration 7200: [83.58571409]\n",
            "Iteration 7300: [83.04101511]\n",
            "Iteration 7400: [82.52334055]\n",
            "Iteration 7500: [82.03105872]\n",
            "Iteration 7600: [81.56263758]\n",
            "Iteration 7700: [81.11663867]\n",
            "Iteration 7800: [80.69171136]\n",
            "Iteration 7900: [80.28658749]\n",
            "Iteration 8000: [79.90007634]\n",
            "Iteration 8100: [79.5310599]\n",
            "Iteration 8200: [79.1784884]\n",
            "Iteration 8300: [78.84137617]\n",
            "Iteration 8400: [78.5187977]\n",
            "Iteration 8500: [78.209884]\n",
            "Iteration 8600: [77.9138191]\n",
            "Iteration 8700: [77.62983683]\n",
            "Iteration 8800: [77.35721779]\n",
            "Iteration 8900: [77.09528646]\n",
            "Iteration 9000: [76.84340857]\n",
            "Iteration 9100: [76.60098851]\n",
            "Iteration 9200: [76.36746703]\n",
            "Iteration 9300: [76.14231899]\n",
            "Iteration 9400: [75.92505127]\n",
            "Iteration 9500: [75.71520083]\n",
            "Iteration 9600: [75.51233286]\n",
            "Iteration 9700: [75.31603905]\n",
            "Iteration 9800: [75.125936]\n",
            "Iteration 9900: [74.94166367]\n",
            "Updated w:  [[ 9.9749476   7.6995234   1.14507322 11.8427247 ]]\n",
            "Updated b:  22.583025575632412\n"
          ]
        }
      ],
      "source": [
        "# initialize the parameters and hyperparameter\n",
        "initial_w, initial_b, alpha = initialize_parameters()\n",
        "\n",
        "# number of iterations\n",
        "num_iters = 10000\n",
        "\n",
        "\n",
        "w,b,loss_hist = batch_gradient_descent(X_train ,y_train, initial_w, initial_b, alpha, num_iters)\n",
        "print(\"Updated w: \",w)\n",
        "print(\"Updated b: \",b)"
      ]
    },
    {
      "cell_type": "markdown",
      "metadata": {
        "id": "sluek2LkSozW"
      },
      "source": [
        "### 1.5. Final Train Error and Test Error"
      ]
    },
    {
      "cell_type": "markdown",
      "metadata": {
        "id": "EH9oHC10fAlV"
      },
      "source": [
        "After the linear regression model is trained, we will compute the final train error and test error for the trained model."
      ]
    },
    {
      "cell_type": "code",
      "execution_count": 583,
      "metadata": {
        "id": "UIXb7sSvSozW",
        "tags": []
      },
      "outputs": [
        {
          "name": "stdout",
          "output_type": "stream",
          "text": [
            "Train Error:  [74.76464561] , Test Error:  [112.98029819]\n"
          ]
        }
      ],
      "source": [
        "## Train and Test error computation\n",
        "\n",
        "train_error = loss_function(X_train,y_train,w,b)\n",
        "test_error = loss_function(X_test,y_test,w,b)\n",
        "print(\"Train Error: \",train_error, \", Test Error: \",test_error)"
      ]
    },
    {
      "cell_type": "markdown",
      "metadata": {
        "id": "eximd12PbAgC"
      },
      "source": [
        "### 1.6. Plotting the loss function"
      ]
    },
    {
      "cell_type": "markdown",
      "metadata": {
        "id": "meDwLCCIfOBo"
      },
      "source": [
        "We will plot the loss function values for every training iteration. If the model is trained properly, you will see that the loss function reduces as the training progesses and it converges at some point."
      ]
    },
    {
      "cell_type": "code",
      "execution_count": 584,
      "metadata": {
        "id": "DW4bue0oSozW"
      },
      "outputs": [
        {
          "data": {
            "image/png": "[encoded data removed]",
            "text/plain": [
              "<Figure size 640x480 with 1 Axes>"
            ]
          },
          "metadata": {},
          "output_type": "display_data"
        }
      ],
      "source": [
        "# PLotting the loss values for every training iterations\n",
        "\n",
        "loss_plot = [loss_hist[i] for i in range(len(loss_hist))]\n",
        "plt.xlabel(\"Iterations\")\n",
        "plt.ylabel(\"Loss function\")\n",
        "plt.plot(loss_plot)\n",
        "plt.show()"
      ]
    },
    {
      "cell_type": "markdown",
      "metadata": {
        "id": "BAVgq4HWCmDX"
      },
      "source": [
        "### 1.7 Experimenting with different values of the Hyperparemeters\n",
        "\n",
        "Previously, we randomly sampled the learning rate and the number of features to train the model. Now, you have to manually choose the number of features and the learning rate. Then, you have to train the model again on the manually choosen hyperparameters (number of features and learning rate). In the next cell, you have to manually choose the hyperparameters and write the code to train the model.\n",
        "\n",
        "After the model is trained, you have to compare the performance of the model with random chosen hyperparameters and manually chosen hyperparameters."
      ]
    },
    {
      "cell_type": "code",
      "execution_count": 585,
      "metadata": {
        "id": "K2QuEbE1Clxq"
      },
      "outputs": [
        {
          "name": "stdout",
          "output_type": "stream",
          "text": [
            "Iteration 0: [513.33523027]\n",
            "Iteration 100: [38.82002893]\n",
            "Iteration 200: [34.82303761]\n",
            "Iteration 300: [33.78925331]\n",
            "Iteration 400: [33.39530615]\n",
            "Iteration 500: [33.18652511]\n",
            "Iteration 600: [33.04848797]\n",
            "Iteration 700: [32.94505361]\n",
            "Iteration 800: [32.86209976]\n",
            "Iteration 900: [32.79289475]\n",
            "Train Error:  [32.7342127] , Test Error:  [60.72952657] alpha : 0.1\n",
            "Iteration 0: [286.11733632]\n",
            "Iteration 100: [34.79383843]\n",
            "Iteration 200: [33.39098175]\n",
            "Iteration 300: [33.04682153]\n",
            "Iteration 400: [32.86107737]\n",
            "Iteration 500: [32.7329221]\n",
            "Iteration 600: [32.63578819]\n",
            "Iteration 700: [32.5582418]\n",
            "Iteration 800: [32.49423536]\n",
            "Iteration 900: [32.44022008]\n",
            "Train Error:  [32.3943852] , Test Error:  [59.66339675] alpha : 0.2\n",
            "Iteration 0: [136.96355552]\n",
            "Iteration 100: [33.76987819]\n",
            "Iteration 200: [33.04516442]\n",
            "Iteration 300: [32.79117946]\n",
            "Iteration 400: [32.63521425]\n",
            "Iteration 500: [32.52438193]\n",
            "Iteration 600: [32.43988437]\n",
            "Iteration 700: [32.37296613]\n",
            "Iteration 800: [32.31886496]\n",
            "Iteration 900: [32.27463966]\n",
            "Train Error:  [32.23860503] , Test Error:  [59.18161023] alpha : 0.30000000000000004\n",
            "Iteration 0: [65.87388786]\n",
            "Iteration 100: [33.38249158]\n",
            "Iteration 200: [32.8590414]\n",
            "Iteration 300: [32.63464119]\n",
            "Iteration 400: [32.49345257]\n",
            "Iteration 500: [32.39337123]\n",
            "Iteration 600: [32.31863701]\n",
            "Iteration 700: [32.26154504]\n",
            "Iteration 800: [32.21750251]\n",
            "Iteration 900: [32.18338601]\n",
            "Train Error:  [32.15714548] , Test Error:  [58.91508566] alpha : 0.4\n",
            "Iteration 0: [72.84833334]\n",
            "Iteration 100: [33.17683262]\n",
            "Iteration 200: [32.73071367]\n",
            "Iteration 300: [32.52353099]\n",
            "Iteration 400: [32.39307943]\n",
            "Iteration 500: [32.30270929]\n",
            "Iteration 600: [32.23794966]\n",
            "Iteration 700: [32.19099629]\n",
            "Iteration 800: [32.15681759]\n",
            "Iteration 900: [32.13190457]\n",
            "Train Error:  [32.11389193] , Test Error:  [58.75245589] alpha : 0.5\n",
            "Iteration 0: [157.88689197]\n",
            "Iteration 100: [33.04024768]\n",
            "Iteration 200: [32.63349773]\n",
            "Iteration 300: [32.43887913]\n",
            "Iteration 400: [32.3181816]\n",
            "Iteration 500: [32.23778711]\n",
            "Iteration 600: [32.18315072]\n",
            "Iteration 700: [32.14581471]\n",
            "Iteration 800: [32.12026294]\n",
            "Iteration 900: [32.10276895]\n",
            "Train Error:  [32.09088915] , Test Error:  [58.64774302] alpha : 0.6\n",
            "Iteration 0: [320.98956374]\n",
            "Iteration 100: [32.93753988]\n",
            "Iteration 200: [32.55591338]\n",
            "Iteration 300: [32.37187271]\n",
            "Iteration 400: [32.2610008]\n",
            "Iteration 500: [32.19074819]\n",
            "Iteration 600: [32.14572955]\n",
            "Iteration 700: [32.11681023]\n",
            "Iteration 800: [32.09822299]\n",
            "Iteration 900: [32.0862751]\n",
            "Train Error:  [32.078656] , Test Error:  [58.5780624] alpha : 0.7\n",
            "Iteration 0: [562.15634866]\n",
            "Iteration 100: [32.85500396]\n",
            "Iteration 200: [32.49189208]\n",
            "Iteration 300: [32.31772684]\n",
            "Iteration 400: [32.21691933]\n",
            "Iteration 500: [32.15653312]\n",
            "Iteration 600: [32.1201398]\n",
            "Iteration 700: [32.09818319]\n",
            "Iteration 800: [32.08493402]\n",
            "Iteration 900: [32.07693889]\n",
            "Train Error:  [32.07215142] , Test Error:  [58.53063481] alpha : 0.7999999999999999\n",
            "Iteration 0: [881.38724673]\n",
            "Iteration 100: [3995488.10987888]\n",
            "Iteration 200: [1.93678272e+10]\n",
            "Iteration 300: [9.38848516e+13]\n",
            "Iteration 400: [4.5510347e+17]\n",
            "Iteration 500: [2.20609784e+21]\n",
            "Iteration 600: [1.06939806e+25]\n",
            "Iteration 700: [5.18386896e+28]\n",
            "Iteration 800: [2.51286199e+32]\n",
            "Iteration 900: [1.21810089e+36]\n",
            "Train Error:  [5.42428795e+39] , Test Error:  [5.60423877e+39] alpha : 0.8999999999999999\n",
            "Iteration 0: [1278.68225794]\n",
            "Iteration 100: [7.48093884e+23]\n",
            "Iteration 200: [4.57980293e+44]\n",
            "Iteration 300: [2.80373832e+65]\n",
            "Iteration 400: [1.71643818e+86]\n",
            "Iteration 500: [1.05079707e+107]\n",
            "Iteration 600: [6.43294057e+127]\n",
            "Iteration 700: [3.93822229e+148]\n",
            "Iteration 800: [2.41096504e+169]\n",
            "Iteration 900: [1.47598383e+190]\n",
            "Train Error:  [5.59890864e+210] , Test Error:  [5.78465251e+210] alpha : 0.9999999999999999\n",
            "Train Error Before:  [74.76464561] , Test Error Before:  [112.98029819] Alpha Before :  0.00019097790427776226\n",
            "Minimum Train Error:  [32.07215142] , Minimum Test Error:  [58.53063481] Minimum Alpha:  0.7999999999999999\n"
          ]
        }
      ],
      "source": [
        "## CODE REQUIRED ##\n",
        "\n",
        "\"\"\"\n",
        "Manually choose the hyperparameters (learning rate and number of features) and train the model.\n",
        "Then compare the performance with random chosen hyperparameters and manually chosen hyperparameters.\n",
        "\"\"\"\n",
        "\n",
        "### START CODE HERE ###\n",
        "filepath=\"Taiwan_House.csv\"\n",
        "new_X, new_y = load_data(filepath)\n",
        "new_X = min_max_scaler(new_X)\n",
        "new_X_train, new_X_test, new_y_train, new_y_test = train_test_split(new_X, new_y, test_size=0.25, random_state=42)\n",
        "new_initial_w = np.random.normal(0,1,size=(1,new_X_train.shape[1]))\n",
        "new_initial_b = np.random.normal(0,1)\n",
        "num_iters = 1000\n",
        "new_alpha=0.1\n",
        "min_train_error = 1e9\n",
        "min_test_error = 1e9\n",
        "min_alpha = 2\n",
        "while new_alpha<=1:\n",
        "  wnew,bnew,loss_hist_new = batch_gradient_descent(new_X_train ,new_y_train, new_initial_w, new_initial_b, new_alpha, num_iters)\n",
        "  new_train_error = loss_function(new_X_train,new_y_train,wnew,bnew)\n",
        "  new_test_error = loss_function(new_X_test,new_y_test,wnew,bnew)\n",
        "\n",
        "  if new_test_error<min_test_error:\n",
        "    min_train_error = new_train_error\n",
        "    min_test_error = new_test_error\n",
        "    min_alpha = new_alpha\n",
        "\n",
        "  print(\"Train Error: \",new_train_error, \", Test Error: \",new_test_error,\"alpha :\",new_alpha)\n",
        "  new_alpha=new_alpha+0.1\n",
        "\n",
        "print(\"Train Error Before: \",train_error, \", Test Error Before: \",test_error,\"Alpha Before : \",alpha)\n",
        "print(\"Minimum Train Error: \",min_train_error, \", Minimum Test Error: \",min_test_error,\"Minimum Alpha: \",min_alpha)\n",
        "\n",
        "### END CODE HERE ###"
      ]
    },
    {
      "cell_type": "markdown",
      "metadata": {
        "id": "XZ0CviUnZui0"
      },
      "source": [
        "## Part 2: Logistic Regression\n",
        "\n",
        "### Problem Statement\n",
        "A Food grain industry requires an efficient classification system to help in sorting food grain species. You have to develop a Logistic Regression model for this purpose.\n",
        " Given various features of a rice grain such as area, perimeter, axis lengths etc. as input features, the task is to build a logistic regression model to predict the species of the food grain.\n",
        "\n",
        "### Dataset Description\n",
        "\n",
        "**For Even Roll Number Students**\n",
        "\n",
        "Dataset Filename: Rice_Classification.csv\n",
        "\n",
        "Attribute Information:\n",
        "+ Area: Returns the number of pixels within the boundaries of the rice grain.\n",
        "+ Perimeter: Calculates the circumference by calculating the distance between pixels around the boundaries of the rice grain.\n",
        "+ Major Axis Length: The longest line that can be drawn on the rice grain, i.e. the main axis distance, gives.\n",
        "+ Minor Axis Length: The shortest line that can be drawn on the rice grain, i.e. the small axis distance, gives.\n",
        "+ Eccentricity: It measures how round the ellipse, which has the same moments as the rice grain, is.\n",
        "+ Convex Area: Returns the pixel count of the smallest convex shell of the region formed by the rice grain.\n",
        "+ Extent: Returns the ratio of the region formed by the rice grain to the bounding box pixels.\n",
        "\n",
        "Target Variable: Class: Cammeo and Osmancik\n",
        "\n",
        "**For Odd Roll Number Students**\n",
        "\n",
        "Dataset Filename: Pumpkin_Seeds_Dataset.csv\n",
        "\n",
        "Attribute Information:\n",
        "\n",
        "+ Area: Represents the number of pixels within the boundaries of the pumpkin seed.\n",
        "\n",
        "+ Perimeter: Calculates the circumference by measuring the distance between pixels around the boundary of the pumpkin seed.\n",
        "\n",
        "+ Major Axis Length: The longest line that can be drawn on the pumpkin seed, representing the main axis distance.\n",
        "\n",
        "+ Minor Axis Length: The shortest line that can be drawn on the pumpkin seed, representing the minor axis distance.\n",
        "\n",
        "+ Convex Area: Returns the pixel count of the smallest convex shell that can contain the pumpkin seed.\n",
        "\n",
        "+ Equivalent Diameter: Diameter of a circle with the same area as the pumpkin seed.\n",
        "\n",
        "+ Eccentricity: This measures how round the ellipse, which has the same moments as the pumpkin seed has.\n",
        "\n",
        "+ Solidity: This is the ratio of the area of the pumpkin seed to the area of its convex hull. It measures the extent to which the shape is convex.\n",
        "\n",
        "+ Extent: Returns the ratio of the area of the pumpkin seed to the area of its bounding box.\n",
        "\n",
        "+ Roundness: Measure of how closely the shape of the pumpkin seed approaches that of a circle.\n",
        "\n",
        "+ Aspect Ratio: Ratio of the major axis length to the minor axis length.\n",
        "\n",
        "+ Compactness: Measure of the shape's compactness, which is the shape's deviation from being a perfect circle. In essence, compactness quantifies how efficiently an object's area is packed within its perimeter.\n",
        "\n",
        "Target Variable: Class: Çerçevelik and Ürgüp Sivrisi\n",
        "\n",
        "\n",
        "\n",
        "These are the following steps or functions that you have to complete to create and train the linear regression model:\n",
        "1. Reading the data\n",
        "2. Creating the sigmoid function\n",
        "2. Computing the loss function\n",
        "3. Computing the gradient of the loss\n",
        "4. Training the model using Batch Gradient Descent"
      ]
    },
    {
      "cell_type": "code",
      "execution_count": 586,
      "metadata": {
        "id": "T27XOBZrRZ4M"
      },
      "outputs": [],
      "source": [
        "import numpy as np\n",
        "import pandas as pd\n",
        "import matplotlib.pyplot as plt\n",
        "from scipy.special import logsumexp\n",
        "import copy\n",
        "import math"
      ]
    },
    {
      "cell_type": "markdown",
      "metadata": {
        "id": "G3luUk4L0WO_"
      },
      "source": [
        "### 2.1. Reading the data\n",
        "\n",
        "In the function ```load_data```, you have to read data from the file, store it in a dataframe and split the data from the dataframe into two numpy arrays X and y.\n",
        "\n",
        "**X** : data of the input features\n",
        "\n",
        "**y**  : data of the class labels\n",
        "\n",
        "The class labels in **y** should be replaced with '0' and '1', for corresponding classes."
      ]
    },
    {
      "cell_type": "code",
      "execution_count": 587,
      "metadata": {
        "id": "7-RV0JgEZi1h"
      },
      "outputs": [
        {
          "name": "stdout",
          "output_type": "stream",
          "text": [
            "Shape of X:  (3810, 7) Shape of y:  (3810,)\n"
          ]
        }
      ],
      "source": [
        "## CODE REQUIRED ##\n",
        "\n",
        "def load_data(filepath):\n",
        "    \"\"\"\n",
        "    This function loads the data into a pandas dataframe and converts it into X and y numpy arrays\n",
        "    y should be a binary numpy array with values 0 and 1, for 2 different classes\n",
        "    Args:\n",
        "        filepath: File path as a string\n",
        "    Returns:\n",
        "        X: Input data of the shape (# of samples, # of input features)\n",
        "        y: Target variable of the shape (# of sample,) with values 0 and 1, for 2 different classes\n",
        "    \"\"\"\n",
        "\n",
        "    ### START CODE HERE ###\n",
        "    df = pd.read_csv(filepath)\n",
        "    x_attr = df[['Area', 'Perimeter', 'Major_Axis_Length', 'Minor_Axis_Length', 'Eccentricity', 'Convex_Area', 'Extent']]\n",
        "    X = x_attr.to_numpy()\n",
        "    y_attr = df['Class']\n",
        "    y = y_attr.map({'Osmancik': 1, 'Cammeo': 0}).to_numpy()\n",
        "    ### END CODE HERE ###\n",
        "   \n",
        "    return X,y\n",
        "\n",
        "filepath = None\n",
        "### START CODE HERE ###\n",
        "## set the file path\n",
        "filepath=\"Rice_Classification.csv\"\n",
        "### END CODE HERE ###\n",
        "\n",
        "X, y = load_data(filepath)\n",
        "\n",
        "print(\"Shape of X: \",X.shape, \"Shape of y: \",y.shape)"
      ]
    },
    {
      "cell_type": "markdown",
      "metadata": {
        "id": "sLGPG1YU-C47"
      },
      "source": [
        "We will not use all the features from X.\n",
        "\n",
        "For Even Roll Number Students: Set the last two digits of your roll number as the random seed and pick a number r between 4 and 7 (both inclusive) randomly. Use the first r features of the numpy array X.\n",
        "\n",
        "For Odd Roll Number Students: Set the last two digits of your roll number as the random seed and pick a number r between 8 and 12 (both inclusive) randomly. Use the first r features of the numpy array X."
      ]
    },
    {
      "cell_type": "code",
      "execution_count": 588,
      "metadata": {
        "id": "JNsDb2Ae94s6"
      },
      "outputs": [
        {
          "name": "stdout",
          "output_type": "stream",
          "text": [
            "Shape of X:  (3810, 5) Shape of y:  (3810,)\n"
          ]
        }
      ],
      "source": [
        "## CODE REQUIRED ##\n",
        "\n",
        "def random_feature_selection(X):\n",
        "    \"\"\"\n",
        "\n",
        "    Args:\n",
        "        X: Input data of the shape (# of samples, # of input features)\n",
        "    Returns:\n",
        "        X_new: New input data of the shape (# of samples, r) containg only the first r features from X\n",
        "    \"\"\"\n",
        "\n",
        "    X_new = None\n",
        "\n",
        "    ### START CODE HERE ###\n",
        "    np.random.seed(32)\n",
        "    r = np.random.randint(4,7)\n",
        "    X_new = X[:,:r]\n",
        "    \n",
        "    ### END CODE HERE ###\n",
        "\n",
        "    return X_new\n",
        "\n",
        "X = random_feature_selection(X)\n",
        "print(\"Shape of X: \",X.shape, \"Shape of y: \",y.shape)"
      ]
    },
    {
      "cell_type": "markdown",
      "metadata": {
        "id": "t4u-qBe34wC9"
      },
      "source": [
        "We need to pre-process the data. We are using min-max scaler to scale the input data ($X$).\n",
        "\n",
        "After that, we split the data (```X``` and ```y```) into a training dataset (```X_train``` and ```y_train```) and test dataset (```X_test``` and ```y_test```)"
      ]
    },
    {
      "cell_type": "code",
      "execution_count": 589,
      "metadata": {
        "id": "YTO4etePa0i1"
      },
      "outputs": [
        {
          "name": "stdout",
          "output_type": "stream",
          "text": [
            "Shape of X_train:  (2857, 5) Shape of y_train:  (2857,)\n",
            "Shape of X_test:  (953, 5) Shape of y_test:  (953,)\n"
          ]
        }
      ],
      "source": [
        "## Data scaling and train-test split\n",
        "\n",
        "def train_test_split(X, y, test_size=0.25, random_state=None):\n",
        "    if random_state is not None:\n",
        "        np.random.seed(random_state)\n",
        "    indices = np.arange(X.shape[0])\n",
        "    np.random.shuffle(indices)\n",
        "\n",
        "    split_index = int(X.shape[0] * (1 - test_size))\n",
        "\n",
        "    train_indices = indices[:split_index]\n",
        "    test_indices = indices[split_index:]\n",
        "\n",
        "    X_train = X[train_indices]\n",
        "    X_test = X[test_indices]\n",
        "    y_train = y[train_indices]\n",
        "    y_test = y[test_indices]\n",
        "\n",
        "    return X_train, X_test, y_train, y_test\n",
        "\n",
        "def min_max_scaler(X, feature_range=(0, 1)):\n",
        "    X_min = np.min(X, axis=0)\n",
        "    X_max = np.max(X, axis=0)\n",
        "\n",
        "    X_scaled = (X-X_min)/(X_max-X_min)\n",
        "\n",
        "    return X_scaled\n",
        "\n",
        "# Feature normalization\n",
        "X = min_max_scaler(X)\n",
        "X_train, X_test, y_train, y_test = train_test_split(X, y, test_size=0.25, random_state=42)\n",
        "print(\"Shape of X_train: \",X_train.shape, \"Shape of y_train: \",y_train.shape)\n",
        "print(\"Shape of X_test: \",X_test.shape, \"Shape of y_test: \",y_test.shape)"
      ]
    },
    {
      "cell_type": "markdown",
      "metadata": {
        "id": "K8SbmjD945Ra"
      },
      "source": [
        "### 2.2. Creating the Sigmoid Function\n",
        "Recall that for logistic regression, the model is represented as\n",
        "\n",
        "$$ f_{\\mathbf{w},b}(x) = g(\\mathbf{w}\\cdot \\mathbf{x} + b)$$\n",
        "where function $g$ is the sigmoid function. The sigmoid function is defined as:\n",
        "\n",
        "$$g(z) = \\frac{1}{1+e^{-z}}$$\n",
        "\n",
        "\n",
        "The function below returns the value of the sigmoid function for an input numpy array z. If the numpy array 'z' stores multiple numbers, we'd like to apply the sigmoid function to each value in the input array"
      ]
    },
    {
      "cell_type": "code",
      "execution_count": 590,
      "metadata": {
        "id": "G44B1vITbBpE"
      },
      "outputs": [],
      "source": [
        "## CODE REQUIRED ##\n",
        "\n",
        "def sigmoid(z):\n",
        "    \"\"\"\n",
        "    Compute the sigmoid of z\n",
        "\n",
        "    Args:\n",
        "        z: A scalar or numpy array of any size.\n",
        "\n",
        "    Returns:\n",
        "        g: sigmoid(z)\n",
        "    \"\"\"\n",
        "    g = None\n",
        "    z = z.astype(float)\n",
        "    ### START CODE HERE ###\n",
        "    g = 1/(1+np.exp(-z))\n",
        "\n",
        "\n",
        "    ### END SOLUTION ###\n",
        "\n",
        "    return g"
      ]
    },
    {
      "cell_type": "markdown",
      "metadata": {
        "id": "kV-Ygf1R8HMl"
      },
      "source": [
        "### 2.3. Computing the loss Function\n",
        "\n",
        "Recall that for logistic regression, the cost function is of the form\n",
        "\n",
        "$$ J(\\mathbf{w},b) = \\frac{1}{m}\\sum_{i=0}^{m-1} \\left[ loss(f_{\\mathbf{w},b}(\\mathbf{x}^{(i)}), y^{(i)}) \\right] \\tag{1}$$\n",
        "\n",
        "where\n",
        "* m is the number of training examples in the dataset\n",
        "\n",
        "\n",
        "* $loss(f_{\\mathbf{w},b}(\\mathbf{x}^{(i)}), y^{(i)})$ is the cost for a single data point, which is -\n",
        "\n",
        "    $$loss(f_{\\mathbf{w},b}(\\mathbf{x}^{(i)}), y^{(i)}) = (-y^{(i)} \\log\\left(f_{\\mathbf{w},b}\\left( \\mathbf{x}^{(i)} \\right) \\right) - \\left( 1 - y^{(i)}\\right) \\log \\left( 1 - f_{\\mathbf{w},b}\\left( \\mathbf{x}^{(i)} \\right) \\right) \\tag{2}$$\n",
        "    \n",
        "    \n",
        "*  $f_{\\mathbf{w},b}(\\mathbf{x}^{(i)})$ is the model's prediction, while $y^{(i)}$, which is the actual label\n",
        "\n",
        "*  $f_{\\mathbf{w},b}(\\mathbf{x}^{(i)}) = g(\\mathbf{w} \\cdot \\mathbf{x^{(i)}} + b)$ where function $g$ is the sigmoid function.\n",
        "\n",
        "Please complete the function loss_function that takes\n",
        "\n",
        " **X**  (input features)\n",
        "\n",
        " **y**  (class labels)\n",
        "\n",
        " **w**  (Parameters of the logistic regression model, (excluding the bias), a numpy array of the shape(1, number of features))\n",
        "\n",
        " **b**  (Bias value of the logistic regression model)\n",
        "\n",
        " You can use the Sigmoid function that you implemented above."
      ]
    },
    {
      "cell_type": "code",
      "execution_count": 591,
      "metadata": {
        "id": "h9RVguhHbEVk"
      },
      "outputs": [],
      "source": [
        "## CODE REQUIRED ##\n",
        "\n",
        "def loss_function(X, y, w, b):\n",
        " \"\"\"\n",
        " Computes the loss function for all the training examples\n",
        " Args:\n",
        "        X: Input data of the shape (# of training samples, # of input features)\n",
        "        y: Target variable of the shape (# of training sample,)\n",
        "        w: Parameters of the logistic regression model (excluding the bias) of the shape (1, number of features)\n",
        "        b: Bias parameter (scalar) of the logistic regression model\n",
        "\n",
        "  Returns:\n",
        "        total_cost: The loss function value of using w and b as the parameters to fit the data points in X and y\n",
        "\n",
        " \"\"\"\n",
        " m, n = X.shape\n",
        "\n",
        " ### START CODE HERE ###\n",
        " z = np.dot(X, w.T) + b\n",
        " fx = sigmoid(z)\n",
        " cost = (-y * np.log(fx).T - (1 - y) * np.log(1 - fx).T)  \n",
        " total_cost = np.sum(cost) / m\n",
        " ### END CODE HERE ###\n",
        "\n",
        " return total_cost"
      ]
    },
    {
      "cell_type": "markdown",
      "metadata": {
        "id": "S9YmUPnsASYE"
      },
      "source": [
        "### 2.4. Computing the Gradient of the Loss\n",
        "\n",
        "Recall that the gradient descent algorithm is:\n",
        "\n",
        "$$\\begin{align*}& \\text{repeat until convergence:} \\; \\lbrace \\newline \\; & b := b -  \\alpha \\frac{\\partial J(\\mathbf{w},b)}{\\partial b} \\newline       \\; & w_j := w_j -  \\alpha \\frac{\\partial J(\\mathbf{w},b)}{\\partial w_j} \\tag{1}  \\; & \\text{for j := 0..n-1}\\newline & \\rbrace\\end{align*}$$\n",
        "\n",
        "where, parameters $b$, $w_j$ are all updated simultaniously\n",
        "\n",
        "In this step, you are required to complete the `compute_gradient_logistic_regression` function to compute $\\frac{\\partial J(\\mathbf{w},b)}{\\partial w}$, $\\frac{\\partial J(\\mathbf{w},b)}{\\partial b}$ from equations (2) and (3) below.\n",
        "\n",
        "$$\n",
        "\\frac{\\partial J(\\mathbf{w},b)}{\\partial b}  = \\frac{1}{m} \\sum\\limits_{i = 0}^{m-1} (f_{\\mathbf{w},b}(\\mathbf{x}^{(i)}) - \\mathbf{y}^{(i)}) \\tag{2}\n",
        "$$\n",
        "$$\n",
        "\\frac{\\partial J(\\mathbf{w},b)}{\\partial w_j}  = \\frac{1}{m} \\sum\\limits_{i = 0}^{m-1} (f_{\\mathbf{w},b}(\\mathbf{x}^{(i)}) - \\mathbf{y}^{(i)})x_{j}^{(i)} \\tag{3}\n",
        "$$\n",
        "* m is the number of training examples in the dataset\n",
        "\n",
        "    \n",
        "*  $f_{\\mathbf{w},b}(x^{(i)})$ is the model's prediction, while $y^{(i)}$ is the actual label\n",
        "\n",
        "You can use the sigmoid function that you implemented above."
      ]
    },
    {
      "cell_type": "code",
      "execution_count": 592,
      "metadata": {
        "id": "PWxbewKkbIB8"
      },
      "outputs": [],
      "source": [
        "## CODE REQUIRED ##\n",
        "\n",
        "def compute_gradient_logistic_regression(X, y, w, b):\n",
        "    \"\"\"\n",
        "    Computes the gradient values of the loss function\n",
        "    Args:\n",
        "       X: Input data of the shape (# of training samples, # of input features)\n",
        "       y: Target variable of the shape (# of training sample,)\n",
        "       w: Parameters of the logistic regression model (excluding the bias) of the shape (1, number of features)\n",
        "       b: Bias parameter of the logistic regression model of the shape (1,1) or a scaler\n",
        "    Returns:\n",
        "       dL_dw : The gradient of the cost w.r.t. the parameters w with shape same as w\n",
        "       dL_db : The gradient of the cost w.r.t. the parameter b with shape same as b\n",
        "    \"\"\"\n",
        "    m, n = X.shape\n",
        "    dj_dw = np.zeros(w.shape)\n",
        "\n",
        "    dj_db = 0.0  \n",
        "   \n",
        "    ### START CODE HERE ###\n",
        "    z = np.dot(X, w.T) + b\n",
        "    \n",
        "    fx = sigmoid(z)\n",
        "    loss = fx - y.reshape(-1, 1)\n",
        "\n",
        "    dj_dw = np.dot(loss.T, X) / m\n",
        "    dj_db = np.sum(loss) / m\n",
        "    ### END CODE HERE ###\n",
        "\n",
        "\n",
        "    return dj_db, dj_dw"
      ]
    },
    {
      "cell_type": "markdown",
      "metadata": {
        "id": "6ZMYX655MRFX"
      },
      "source": [
        "### 2.5. Training the model using Batch Gradient Descent\n",
        "\n",
        "Please complete the batch gradient descent algorithm for logistic regression to train and learn the parameters of the logistic regression model. You have to use ```loss_function``` and ```compute_gradient_logistic regression``` functions that you have implemented earlier in this assignment.\n",
        "\n",
        "In this ```batch_gradient_descent_logistic_regression``` function, you have to compute the gradient for the training samples and update the parameters $w$ and $b$ in every iteration:\n",
        "\n",
        "+ $w \\leftarrow w - \\alpha \\frac{\\partial L}{\\partial w}$\n",
        "\n",
        "+ $b \\leftarrow b - \\alpha \\frac{\\partial L}{\\partial b}$\n",
        "\n",
        "This function takes   ```X```    (input features),  ```y```  (class labels),  ```w_in```  (intial values of parameters(excluding bias)),  ```b_in```  (initial value for bias),  ```num_iters```   (number of iterations of training) as input.\n",
        "\n",
        "Additionally, you have compute the loss function values in every iteration and store it in the list variable ```loss_hist``` and print the loss value after every 100 iterations during the training process."
      ]
    },
    {
      "cell_type": "code",
      "execution_count": 593,
      "metadata": {
        "id": "JOi07RVNbL_7"
      },
      "outputs": [],
      "source": [
        "## CODE REQUIRED ##\n",
        "\n",
        "def batch_gradient_descent_logistic_regression(X, y, w_in, b_in, alpha, num_iters):\n",
        "    \"\"\"\n",
        "    Batch gradient descent to learn the parameters (w and b) of the linear regression model and to print loss values\n",
        "    every 100 iterations\n",
        "\n",
        "    Args:\n",
        "        X: Input data of the shape (# of training samples, # of input features)\n",
        "        y: Target variable of the shape (# of training sample,)\n",
        "        w_in: Initial parameters of the logistic regression model (excluding the bias) of the shape (1, number of features)\n",
        "        b_in: Initial bias parameter (scalar) of the logistic regression model\n",
        "        alpha: Learning rate\n",
        "        num_iters: number of iterations\n",
        "    Returns\n",
        "        w: Updated values of parameters of the model after training\n",
        "        b: Updated bias of the model after training\n",
        "        loss_hist: List of loss values for every iteration\n",
        "    \"\"\"\n",
        "\n",
        "    # number of training examples\n",
        "    m = len(X)\n",
        "\n",
        "    # list to store the loss values for every iterations\n",
        "    loss_hist = []\n",
        "\n",
        "    ### START CODE HERE ###\n",
        "    \n",
        "    for i in range(num_iters):\n",
        "        db,dw = compute_gradient_logistic_regression(X,y,w_in,b_in)\n",
        "        \n",
        "        dw = dw.astype(np.float64)\n",
        "        db = np.float64(db)\n",
        "\n",
        "        w_in -= dw*alpha\n",
        "        b_in -= db*alpha\n",
        "\n",
        "        loss  = loss_function(X,y,w_in,b_in)\n",
        "        loss_hist.append(loss)\n",
        "\n",
        "        if i%100 == 0:\n",
        "            print(f\"Iteration {i}, loss = {loss}\")\n",
        "\n",
        "    ### END CODE HERE ###\n",
        "\n",
        "    return w_in, b_in, loss_hist"
      ]
    },
    {
      "cell_type": "markdown",
      "metadata": {
        "id": "3yeLdzT9-5Wc"
      },
      "source": [
        "Now you have to intialize the model parameters ($w$ and $b$) and learning rate (```alpha```). The learning rate ```alpha``` has to be randomly initialized between 0.01 and 0.09. To randomly initialize the learning rate, you have to first set the last two digits of your roll number as the random seed using ```random.seed()``` function."
      ]
    },
    {
      "cell_type": "code",
      "execution_count": 594,
      "metadata": {
        "id": "MIBltyJh-Tjk"
      },
      "outputs": [],
      "source": [
        "## CODE REQUIRED ##\n",
        "\n",
        "## set the last two digits of your roll number as the random seed\n",
        "random_seed = None\n",
        "### START CODE HERE ###\n",
        "random_seed = 32\n",
        "### END CODE HERE ###\n",
        "np.random.seed(random_seed)\n",
        "\n",
        "def initialize_parameters():\n",
        "    \"\"\"\n",
        "    This function randomly initializes the model parameters (w and b) and the hyperparameter alpha\n",
        "    Initial w and b should be randomly sampled from a normal distribution with mean 0\n",
        "    alpha should be randomly initialized between 0.01 and 0.09 by using last two digits of your roll number as the random seed\n",
        "    Args:\n",
        "        None\n",
        "    Returns:\n",
        "        initial_w: Initial parameters of the linear regression model (excluding the bias) of the shape (1, number of features)\n",
        "        initial_b: Initial bias parameter (scalar) of the linear regression model\n",
        "        alpha: Learning rate\n",
        "    \"\"\"\n",
        "\n",
        "    initial_w = None\n",
        "    initial_b = None\n",
        "    alpha = None\n",
        "\n",
        "    ### START CODE HERE ###\n",
        "    np.random.seed(seed=random_seed)\n",
        "    initial_w = np.random.normal(0,1,size=(1,X_train.shape[1]))\n",
        "    initial_b = np.random.normal(0,1)\n",
        "    alpha= np.random.uniform(0.01,0.09)\n",
        "    ### END CODE HERE ###\n",
        "\n",
        "    return initial_w,initial_b,alpha"
      ]
    },
    {
      "cell_type": "markdown",
      "metadata": {
        "id": "KT5CbQ8dZS_J"
      },
      "source": [
        "The following cell runs the batch gradient algorithm for\n",
        "```num_iterations=1000``` to train the logistic regression model. You can change the number of iterations to check any improvements in the performance"
      ]
    },
    {
      "cell_type": "code",
      "execution_count": 595,
      "metadata": {
        "id": "KFTZi7pkbOdp"
      },
      "outputs": [
        {
          "name": "stdout",
          "output_type": "stream",
          "text": [
            "Iteration 0, loss = 1.0384781501363591\n",
            "Iteration 100, loss = 0.7552436992212479\n",
            "Iteration 200, loss = 0.6958586532250082\n",
            "Iteration 300, loss = 0.6752743412651552\n",
            "Iteration 400, loss = 0.6598783030504529\n",
            "Iteration 500, loss = 0.6456560058068507\n",
            "Iteration 600, loss = 0.6321345728310367\n",
            "Iteration 700, loss = 0.6192330678441007\n",
            "Iteration 800, loss = 0.6069144867344325\n",
            "Iteration 900, loss = 0.595147806814082\n",
            "optimized parameter values w: [[-1.16941776 -0.15674895 -0.60114392 -0.11923267  0.30687715]]\n",
            "optimized parameter value b: 0.8430901374005475\n"
          ]
        }
      ],
      "source": [
        "# initialize the parameters (w an b) randomly\n",
        "initial_w, initial_b, alpha = initialize_parameters()\n",
        "num_iterations = 1000\n",
        "\n",
        "w, b, loss_hist = batch_gradient_descent_logistic_regression(X_train ,y_train, initial_w, initial_b, alpha, num_iterations)\n",
        "print(\"optimized parameter values w:\", w)\n",
        "print(\"optimized parameter value b:\", b)"
      ]
    },
    {
      "cell_type": "markdown",
      "metadata": {
        "id": "pYP0-YUyY50x"
      },
      "source": [
        "### 2.6. Final Train and Test Accuracy\n",
        "After the logistic regression model is trained, we will predict the class labels for the training set and test set and we will compute the accuracy.\n",
        "\n",
        "Please complete the `predict` function to produce `1` or `0` predictions given a dataset and a learned parameter vector $w$ and $b$.\n",
        "- First you need to compute the prediction from the model $f(x^{(i)}) = g(w \\cdot x^{(i)})$ for every example\n",
        "\n",
        "- We interpret the output of the model ($f(x^{(i)})$) as the probability that $y^{(i)}=1$ given $x^{(i)}$ and parameterized by $w$.\n",
        "- Therefore, to get a final prediction ($y^{(i)}=0$ or $y^{(i)}=1$) from the logistic regression model, you can use the following heuristic -\n",
        "\n",
        "  if $f(x^{(i)}) >= 0.5$, predict $y^{(i)}=1$\n",
        "  \n",
        "  if $f(x^{(i)}) < 0.5$, predict $y^{(i)}=0$"
      ]
    },
    {
      "cell_type": "code",
      "execution_count": 596,
      "metadata": {
        "id": "mZDUV2iwbQ_R"
      },
      "outputs": [],
      "source": [
        "def predict(X, w, b):\n",
        "      \"\"\"\n",
        "      Predict whether the label is 0 or 1 using learned logistic regression parameters (w,b)\n",
        "\n",
        "      Args:\n",
        "        X: Input data of shape (number of sample, number of features)\n",
        "        w: Parameters of the logistic regression model (excluding the bias) of the shape (1, number of features)\n",
        "        b: Bias parameter of the logistic regression model\n",
        "\n",
        "      Returns:\n",
        "        p: Predictions for X using a threshold at 0.5\n",
        "      \"\"\"\n",
        "      m, n = X.shape\n",
        "      p = np.zeros(m)\n",
        "      ### START CODE HERE###\n",
        "      \n",
        "      z = np.dot(X,w.T)+b\n",
        "      y_predict = sigmoid(z)\n",
        "      \n",
        "      for i in range(m):\n",
        "          if y_predict[i]>=0.5:\n",
        "              p[i] = 1\n",
        "          else:\n",
        "              p[i]\n",
        "      ### END CODE HERE ###\n",
        "      return p"
      ]
    },
    {
      "cell_type": "markdown",
      "metadata": {
        "id": "zsrATkIy2KVy"
      },
      "source": [
        "Now let's use this to compute the accuracy on the training and test datasets"
      ]
    },
    {
      "cell_type": "code",
      "execution_count": 597,
      "metadata": {
        "id": "UMmh6WdFbU9Y"
      },
      "outputs": [
        {
          "name": "stdout",
          "output_type": "stream",
          "text": [
            "Train Accuracy: 88.869443\n",
            "Test Accuracy: 87.513116\n"
          ]
        }
      ],
      "source": [
        "p_train = predict(X_train, w,b)\n",
        "print('Train Accuracy: %f'%(np.mean(p_train == y_train) * 100))\n",
        "p_test = predict(X_test, w,b)\n",
        "print('Test Accuracy: %f'%(np.mean(p_test == y_test) * 100))"
      ]
    },
    {
      "cell_type": "markdown",
      "metadata": {
        "id": "B0VqjFy9ZK7D"
      },
      "source": [
        "Now, we plot the loss function values for every iteration."
      ]
    },
    {
      "cell_type": "code",
      "execution_count": 598,
      "metadata": {
        "id": "fkmP3XHMTW74"
      },
      "outputs": [
        {
          "data": {
            "image/png": "[encoded data removed]",
            "text/plain": [
              "<Figure size 640x480 with 1 Axes>"
            ]
          },
          "metadata": {},
          "output_type": "display_data"
        }
      ],
      "source": [
        "# PLotting the loss values for every training iterations\n",
        "\n",
        "loss_plot = [loss_hist[i] for i in range(len(loss_hist))]\n",
        "plt.xlabel(\"Iterations\")\n",
        "plt.ylabel(\"Loss function\")\n",
        "plt.plot(loss_plot)\n",
        "plt.show()"
      ]
    },
    {
      "cell_type": "markdown",
      "metadata": {
        "id": "JgKAU9RBEUlL"
      },
      "source": [
        "### 2.7 Experimenting with different values of the Hyperparemeters\n",
        "\n",
        "Previously, we randomly sampled the learning rate and the number of features to train the model. Now, you have to manually choose the number of features and the learning rate. Then, you have to train the model again on the manually choosen hyperparameters (number of features and learning rate). In the next cell, you have to manually choose the hyperparameters and write the code to train the model.\n",
        "\n",
        "After the model is trained, you have to compare the performance of the model with random chosen hyperparameters and the model **with** manually chosen hyperparameters."
      ]
    },
    {
      "cell_type": "code",
      "execution_count": 599,
      "metadata": {
        "id": "xMcc3cuvIbD_"
      },
      "outputs": [
        {
          "name": "stdout",
          "output_type": "stream",
          "text": [
            "Iteration 0, loss = 0.5482247772442365\n",
            "Iteration 100, loss = 0.32297338229395933\n",
            "Iteration 200, loss = 0.26746231935894726\n",
            "Iteration 300, loss = 0.24071746548478784\n",
            "Iteration 400, loss = 0.2250036077790857\n",
            "Iteration 500, loss = 0.21474586476053878\n",
            "Iteration 600, loss = 0.20759316092947108\n",
            "Iteration 700, loss = 0.20237305783548312\n",
            "Iteration 800, loss = 0.1984334133264805\n",
            "Iteration 900, loss = 0.19538238457290946\n",
            "alpha: 1\n",
            "Train Accuracy: 92.824641\n",
            "Test Accuracy: 91.815320\n",
            "Iteration 0, loss = 1.3287691895561224\n",
            "Iteration 100, loss = 0.2081337072086285\n",
            "Iteration 200, loss = 0.19816859393530348\n",
            "Iteration 300, loss = 0.1926136722163466\n",
            "Iteration 400, loss = 0.18914434622656584\n",
            "Iteration 500, loss = 0.18682299753097525\n",
            "Iteration 600, loss = 0.18519697211163624\n",
            "Iteration 700, loss = 0.1840202994077364\n",
            "Iteration 800, loss = 0.18314781521437068\n",
            "Iteration 900, loss = 0.18248852492054338\n",
            "alpha: 2\n",
            "Train Accuracy: 93.244662\n",
            "Test Accuracy: 92.025184\n",
            "Iteration 0, loss = 0.790919176776248\n",
            "Iteration 100, loss = 0.19076072662450205\n",
            "Iteration 200, loss = 0.18648977435899308\n",
            "Iteration 300, loss = 0.1842555219249627\n",
            "Iteration 400, loss = 0.1829209770739722\n",
            "Iteration 500, loss = 0.18206281601472016\n",
            "Iteration 600, loss = 0.18148546509379113\n",
            "Iteration 700, loss = 0.18108507069882174\n",
            "Iteration 800, loss = 0.18080121945388475\n",
            "Iteration 900, loss = 0.18059653223285102\n",
            "alpha: 3\n",
            "Train Accuracy: 93.174659\n",
            "Test Accuracy: 91.920252\n",
            "Iteration 0, loss = 0.31716622353167356\n",
            "Iteration 100, loss = 0.18496813991405298\n",
            "Iteration 200, loss = 0.18281192415867037\n",
            "Iteration 300, loss = 0.18174987704966022\n",
            "Iteration 400, loss = 0.1811430380036778\n",
            "Iteration 500, loss = 0.18076931027770185\n",
            "Iteration 600, loss = 0.18052895257561505\n",
            "Iteration 700, loss = 0.1803697952651005\n",
            "Iteration 800, loss = 0.18026198522363635\n",
            "Iteration 900, loss = 0.18018747071265168\n",
            "alpha: 4\n",
            "Train Accuracy: 93.139657\n",
            "Test Accuracy: 91.920252\n",
            "Iteration 0, loss = 0.18961136107464932\n",
            "Iteration 100, loss = 0.18248342980775326\n",
            "Iteration 200, loss = 0.18133476337323878\n",
            "Iteration 300, loss = 0.1807968384296356\n",
            "Iteration 400, loss = 0.18050148870906632\n",
            "Iteration 500, loss = 0.1803267751803453\n",
            "Iteration 600, loss = 0.18021869988703065\n",
            "Iteration 700, loss = 0.18014943353793178\n",
            "Iteration 800, loss = 0.18010346027202467\n",
            "Iteration 900, loss = 0.1800717409728723\n",
            "alpha: 5\n",
            "Train Accuracy: 93.104655\n",
            "Test Accuracy: 92.130115\n",
            "Iteration 0, loss = 0.19400624731024202\n",
            "Iteration 100, loss = 0.1813019492978581\n",
            "Iteration 200, loss = 0.18066690641164745\n",
            "Iteration 300, loss = 0.18038117016504404\n",
            "Iteration 400, loss = 0.18022926430300953\n",
            "Iteration 500, loss = 0.18014182879589444\n",
            "Iteration 600, loss = 0.18008846489211733\n",
            "Iteration 700, loss = 0.18005388602261196\n",
            "Iteration 800, loss = 0.18002990827629883\n",
            "Iteration 900, loss = 0.18001200510679105\n",
            "alpha: 6\n",
            "Train Accuracy: 93.139657\n",
            "Test Accuracy: 92.235047\n",
            "Iteration 0, loss = 0.21378709462036902\n",
            "Iteration 100, loss = 0.1806898282581967\n",
            "Iteration 200, loss = 0.18032437860660788\n",
            "Iteration 300, loss = 0.18016417392840595\n",
            "Iteration 400, loss = 0.18008033065243542\n",
            "Iteration 500, loss = 0.1800318892735184\n",
            "Iteration 600, loss = 0.18000117880644845\n",
            "Iteration 700, loss = 0.17997964874686231\n",
            "Iteration 800, loss = 0.1799629635234387\n",
            "Iteration 900, loss = 0.17994887249515581\n",
            "alpha: 7\n",
            "Train Accuracy: 93.139657\n",
            "Test Accuracy: 92.235047\n",
            "Iteration 0, loss = 0.2252834644148977\n",
            "Iteration 100, loss = 0.18033217464985363\n",
            "Iteration 200, loss = 0.18011224747586513\n",
            "Iteration 300, loss = 0.18001655994388305\n",
            "Iteration 400, loss = 0.1799657859720686\n",
            "Iteration 500, loss = 0.17993488404587027\n",
            "Iteration 600, loss = 0.17991334384040303\n",
            "Iteration 700, loss = 0.17989633742420852\n",
            "Iteration 800, loss = 0.17988157043108782\n",
            "Iteration 900, loss = 0.1798679337445141\n",
            "alpha: 8\n",
            "Train Accuracy: 93.139657\n",
            "Test Accuracy: 92.235047\n",
            "Iteration 0, loss = 0.2304292319658953\n",
            "Iteration 100, loss = 0.180088631154713\n",
            "Iteration 200, loss = 0.17994956748952598\n",
            "Iteration 300, loss = 0.1798880036680255\n",
            "Iteration 400, loss = 0.17985355105887238\n",
            "Iteration 500, loss = 0.1798304575182877\n",
            "Iteration 600, loss = 0.1798123770497205\n",
            "Iteration 700, loss = 0.1797965716484876\n",
            "Iteration 800, loss = 0.17978183041102458\n",
            "Iteration 900, loss = 0.17976761081627127\n",
            "alpha: 9\n",
            "Train Accuracy: 93.139657\n",
            "Test Accuracy: 92.235047\n",
            "Iteration 0, loss = 0.23276753665784478\n",
            "Iteration 100, loss = 0.17989468969484074\n",
            "Iteration 200, loss = 0.17980219064983868\n",
            "Iteration 300, loss = 0.1797592176959532\n",
            "Iteration 400, loss = 0.179732906581837\n",
            "Iteration 500, loss = 0.17971317016744948\n",
            "Iteration 600, loss = 0.17969615381618445\n",
            "Iteration 700, loss = 0.17968030694433887\n",
            "Iteration 800, loss = 0.17966499409888992\n",
            "Iteration 900, loss = 0.1796499519715466\n",
            "alpha: 10\n",
            "Train Accuracy: 93.139657\n",
            "Test Accuracy: 92.235047\n",
            "Iteration 0, loss = 0.23430641115839088\n",
            "Iteration 100, loss = 0.17971888909870698\n",
            "Iteration 200, loss = 0.17965546663290263\n",
            "Iteration 300, loss = 0.17962331244654664\n",
            "Iteration 400, loss = 0.17960121095976309\n",
            "Iteration 500, loss = 0.17958284066427016\n",
            "Iteration 600, loss = 0.17956592988617573\n",
            "Iteration 700, loss = 0.17954963032887006\n",
            "Iteration 800, loss = 0.1795336204165426\n",
            "Iteration 900, loss = 0.17951777677645428\n",
            "alpha: 11\n",
            "Train Accuracy: 93.104655\n",
            "Test Accuracy: 92.235047\n",
            "Iteration 0, loss = 0.2361500196621023\n",
            "Iteration 100, loss = 0.17953654833128393\n",
            "Iteration 200, loss = 0.17950051104610734\n",
            "Iteration 300, loss = 0.17947751875060716\n",
            "Iteration 400, loss = 0.1794584748995762\n",
            "Iteration 500, loss = 0.1794408436691537\n",
            "Iteration 600, loss = 0.17942376825824888\n",
            "Iteration 700, loss = 0.17940695092378947\n",
            "Iteration 800, loss = 0.17939028657928718\n",
            "Iteration 900, loss = 0.17937373722243907\n",
            "alpha: 12\n",
            "Train Accuracy: 93.069653\n",
            "Test Accuracy: 92.235047\n",
            "Iteration 0, loss = 0.23896906298657156\n",
            "Iteration 100, loss = 0.18166807359223996\n",
            "Iteration 200, loss = 0.18014906342461004\n",
            "Iteration 300, loss = 0.17962189305620252\n",
            "Iteration 400, loss = 0.1794114245362449\n",
            "Iteration 500, loss = 0.17932465001732903\n",
            "Iteration 600, loss = 0.1792833708169023\n",
            "Iteration 700, loss = 0.17925803409162058\n",
            "Iteration 800, loss = 0.17923814977751645\n",
            "Iteration 900, loss = 0.17922013763498706\n",
            "alpha: 13\n",
            "Train Accuracy: 93.034652\n",
            "Test Accuracy: 92.235047\n",
            "Iteration 0, loss = 0.24435081459253358\n",
            "Iteration 100, loss = 0.18336851425433823\n",
            "Iteration 200, loss = 0.18067211929920304\n",
            "Iteration 300, loss = 0.17970107297844065\n",
            "Iteration 400, loss = 0.17932707757011693\n",
            "Iteration 500, loss = 0.17918676524230623\n",
            "Iteration 600, loss = 0.17912931462508522\n",
            "Iteration 700, loss = 0.17910012128560995\n",
            "Iteration 800, loss = 0.18766427617463977\n",
            "Iteration 900, loss = 0.18161532243341022\n",
            "alpha: 14\n",
            "Train Accuracy: 93.034652\n",
            "Test Accuracy: 92.339979\n",
            "Iteration 0, loss = 0.4482393953145224\n",
            "Iteration 100, loss = 0.18567234336078756\n",
            "Iteration 200, loss = 0.18155983299958334\n",
            "Iteration 300, loss = 0.17991705496756105\n",
            "Iteration 400, loss = 0.17928874261161998\n",
            "Iteration 500, loss = 0.17925411811427797\n",
            "Iteration 600, loss = 0.1869154289810426\n",
            "Iteration 700, loss = 0.18184553497260333\n",
            "Iteration 800, loss = 0.17997206930558485\n",
            "Iteration 900, loss = 0.17924765719899152\n",
            "alpha: 15\n",
            "Train Accuracy: 93.069653\n",
            "Test Accuracy: 92.339979\n",
            "Iteration 0, loss = 0.2607164927562333\n",
            "Iteration 100, loss = 0.18802083670359113\n",
            "Iteration 200, loss = 0.1822582424246403\n",
            "Iteration 300, loss = 0.18001791023374808\n",
            "Iteration 400, loss = 0.1792049739719957\n",
            "Iteration 500, loss = 0.19013243543509886\n",
            "Iteration 600, loss = 0.1830378679626344\n",
            "Iteration 700, loss = 0.1802878852379353\n",
            "Iteration 800, loss = 0.1792264450985261\n",
            "Iteration 900, loss = 0.19500322617113758\n",
            "alpha: 16\n",
            "Train Accuracy: 92.999650\n",
            "Test Accuracy: 92.235047\n",
            "Iteration 0, loss = 1.0726587598242663\n",
            "Iteration 100, loss = 0.19156558506872334\n",
            "Iteration 200, loss = 0.18389183026812098\n",
            "Iteration 300, loss = 0.18050810527429664\n",
            "Iteration 400, loss = 0.21462354662583408\n",
            "Iteration 500, loss = 0.18893902933496595\n",
            "Iteration 600, loss = 0.18261874535852166\n",
            "Iteration 700, loss = 0.1799483340562189\n",
            "Iteration 800, loss = 0.20104501202898148\n",
            "Iteration 900, loss = 0.18646620011174986\n",
            "alpha: 17\n",
            "Train Accuracy: 93.034652\n",
            "Test Accuracy: 92.339979\n",
            "Iteration 0, loss = 0.5132355483468659\n",
            "Iteration 100, loss = 0.19475885152788538\n",
            "Iteration 200, loss = 0.1850471572056762\n",
            "Iteration 300, loss = 0.18075763543788625\n",
            "Iteration 400, loss = 0.2049950962969449\n",
            "Iteration 500, loss = 0.18834926427889712\n",
            "Iteration 600, loss = 0.18214519994646688\n",
            "Iteration 700, loss = 2.0795747389701864\n",
            "Iteration 800, loss = 0.1935252171461301\n",
            "Iteration 900, loss = 0.1843976401102478\n",
            "alpha: 18\n",
            "Train Accuracy: 93.034652\n",
            "Test Accuracy: 92.339979\n",
            "Iteration 0, loss = 0.36563612736152673\n",
            "Iteration 100, loss = 0.1981393469238811\n",
            "Iteration 200, loss = 0.1862764777792592\n",
            "Iteration 300, loss = 0.18100909656940942\n",
            "Iteration 400, loss = 0.20295616727734453\n",
            "Iteration 500, loss = 0.18828114994610723\n",
            "Iteration 600, loss = 0.1818353564819712\n",
            "Iteration 700, loss = 0.2119088658862941\n",
            "Iteration 800, loss = 0.19100422702155087\n",
            "Iteration 900, loss = 0.18303656960431708\n",
            "alpha: 19\n",
            "Train Accuracy: 93.279664\n",
            "Test Accuracy: 92.130115\n",
            "Iteration 0, loss = 2.016765523454432\n",
            "Iteration 100, loss = 0.19954811535034717\n",
            "Iteration 200, loss = 0.18670705352031194\n",
            "Iteration 300, loss = 1.4733063352830007\n",
            "Iteration 400, loss = 0.20053612213036642\n",
            "Iteration 500, loss = 0.18736019215507482\n",
            "Iteration 600, loss = 0.18845591138151352\n",
            "Iteration 700, loss = 0.20333256654052845\n",
            "Iteration 800, loss = 0.18857207790630703\n",
            "Iteration 900, loss = 0.1817027765878292\n",
            "alpha: 20\n",
            "Train Accuracy: 93.209660\n",
            "Test Accuracy: 91.815320\n",
            "Train Accuracy Before:  88.8694434721736 , Test Accuracy Before:  87.5131164742917 Alpha Before :  0.01808692482468998\n",
            "Maximum Train Accuracy:  93.03465173258662 , Maximum Test Accuracy:  92.33997901364114 Maximum Alpha:  14\n"
          ]
        }
      ],
      "source": [
        "## CODE REQUIRED ##\n",
        "\n",
        "\"\"\"\n",
        "Manually choose the hyperparameters (learning rate and number of features) and train the model.\n",
        "Then compare the performance with random chosen hyperparameters and manually chosen hyperparameters.\n",
        "\"\"\"\n",
        "\n",
        "### START CODE HERE ###\n",
        "num_iterations = 1000\n",
        "new_X, new_y = load_data(filepath)\n",
        "new_X = min_max_scaler(new_X)\n",
        "new_X_train, new_X_test, new_y_train, new_y_test = train_test_split(new_X, new_y, test_size=0.25, random_state=42)\n",
        "new_initial_w = np.random.normal(0,1,size=(1,new_X_train.shape[1]))\n",
        "new_initial_b = np.random.normal(0,1)\n",
        "new_alpha=1\n",
        "\n",
        "max_train_accuracy = 0\n",
        "max_test_accuracy = 0\n",
        "max_alpha = 0\n",
        "\n",
        "while new_alpha<=20:\n",
        "  w, b, loss_hist = batch_gradient_descent_logistic_regression(new_X_train ,new_y_train, new_initial_w, new_initial_b, new_alpha, num_iterations)\n",
        "  print('alpha:',new_alpha)\n",
        "  new_p_train = predict(new_X_train, w,b)\n",
        "  print('Train Accuracy: %f'%(np.mean(new_p_train == new_y_train) * 100))\n",
        "  new_p_test = predict(new_X_test, w,b)\n",
        "  print('Test Accuracy: %f'%(np.mean(new_p_test == new_y_test) * 100))\n",
        "  if np.mean(new_p_test == y_test) > max_test_accuracy:\n",
        "    max_test_accuracy = np.mean(new_p_test == new_y_test)\n",
        "    max_train_accuracy = np.mean(new_p_train == new_y_train)\n",
        "    max_alpha = new_alpha\n",
        "  new_alpha=new_alpha+1\n",
        "\n",
        "print(\"Train Accuracy Before: \",np.mean(p_train == y_train)*100, \", Test Accuracy Before: \",np.mean(p_test == y_test)*100,\"Alpha Before : \",alpha)\n",
        "print(\"Maximum Train Accuracy: \",max_train_accuracy*100, \", Maximum Test Accuracy: \",max_test_accuracy*100,\"Maximum Alpha: \",max_alpha)\n",
        "### END CODE HERE ###"
      ]
    }
  ],
  "metadata": {
    "colab": {
      "provenance": []
    },
    "kernelspec": {
      "display_name": "Python 3 (ipykernel)",
      "language": "python",
      "name": "python3"
    },
    "language_info": {
      "codemirror_mode": {
        "name": "ipython",
        "version": 3
      },
      "file_extension": ".py",
      "mimetype": "text/x-python",
      "name": "python",
      "nbconvert_exporter": "python",
      "pygments_lexer": "ipython3",
      "version": "3.10.12"
    }
  },
  "nbformat": 4,
  "nbformat_minor": 0
}
