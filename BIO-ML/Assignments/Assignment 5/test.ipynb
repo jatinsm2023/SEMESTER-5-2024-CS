{
 "cells": [
  {
   "cell_type": "code",
   "execution_count": 2,
   "metadata": {},
   "outputs": [
    {
     "name": "stdout",
     "output_type": "stream",
     "text": [
      "Defaulting to user installation because normal site-packages is not writeable\n",
      "Requirement already satisfied: tensorflow in /home/jatin/.local/lib/python3.12/site-packages (2.18.0)\n",
      "Requirement already satisfied: keras in /home/jatin/.local/lib/python3.12/site-packages (3.6.0)\n",
      "Requirement already satisfied: numpy in /usr/lib/python3/dist-packages (1.26.4)\n",
      "Requirement already satisfied: matplotlib in /home/jatin/.local/lib/python3.12/site-packages (3.9.2)\n",
      "Requirement already satisfied: absl-py>=1.0.0 in /home/jatin/.local/lib/python3.12/site-packages (from tensorflow) (2.1.0)\n",
      "Requirement already satisfied: astunparse>=1.6.0 in /home/jatin/.local/lib/python3.12/site-packages (from tensorflow) (1.6.3)\n",
      "Requirement already satisfied: flatbuffers>=24.3.25 in /home/jatin/.local/lib/python3.12/site-packages (from tensorflow) (24.3.25)\n",
      "Requirement already satisfied: gast!=0.5.0,!=0.5.1,!=0.5.2,>=0.2.1 in /home/jatin/.local/lib/python3.12/site-packages (from tensorflow) (0.6.0)\n",
      "Requirement already satisfied: google-pasta>=0.1.1 in /home/jatin/.local/lib/python3.12/site-packages (from tensorflow) (0.2.0)\n",
      "Requirement already satisfied: libclang>=13.0.0 in /home/jatin/.local/lib/python3.12/site-packages (from tensorflow) (18.1.1)\n",
      "Requirement already satisfied: opt-einsum>=2.3.2 in /home/jatin/.local/lib/python3.12/site-packages (from tensorflow) (3.4.0)\n",
      "Requirement already satisfied: packaging in /usr/lib/python3/dist-packages (from tensorflow) (24.0)\n",
      "Requirement already satisfied: protobuf!=4.21.0,!=4.21.1,!=4.21.2,!=4.21.3,!=4.21.4,!=4.21.5,<6.0.0dev,>=3.20.3 in /home/jatin/.local/lib/python3.12/site-packages (from tensorflow) (5.28.3)\n",
      "Requirement already satisfied: requests<3,>=2.21.0 in /usr/lib/python3/dist-packages (from tensorflow) (2.31.0)\n",
      "Requirement already satisfied: setuptools in /usr/lib/python3/dist-packages (from tensorflow) (68.1.2)\n",
      "Requirement already satisfied: six>=1.12.0 in /usr/lib/python3/dist-packages (from tensorflow) (1.16.0)\n",
      "Requirement already satisfied: termcolor>=1.1.0 in /home/jatin/.local/lib/python3.12/site-packages (from tensorflow) (2.5.0)\n",
      "Requirement already satisfied: typing-extensions>=3.6.6 in /usr/lib/python3/dist-packages (from tensorflow) (4.10.0)\n",
      "Requirement already satisfied: wrapt>=1.11.0 in /home/jatin/.local/lib/python3.12/site-packages (from tensorflow) (1.16.0)\n",
      "Requirement already satisfied: grpcio<2.0,>=1.24.3 in /home/jatin/.local/lib/python3.12/site-packages (from tensorflow) (1.67.1)\n",
      "Requirement already satisfied: tensorboard<2.19,>=2.18 in /home/jatin/.local/lib/python3.12/site-packages (from tensorflow) (2.18.0)\n",
      "Requirement already satisfied: h5py>=3.11.0 in /home/jatin/.local/lib/python3.12/site-packages (from tensorflow) (3.12.1)\n",
      "Requirement already satisfied: ml-dtypes<0.5.0,>=0.4.0 in /home/jatin/.local/lib/python3.12/site-packages (from tensorflow) (0.4.1)\n",
      "Requirement already satisfied: rich in /usr/lib/python3/dist-packages (from keras) (13.7.1)\n",
      "Requirement already satisfied: namex in /home/jatin/.local/lib/python3.12/site-packages (from keras) (0.0.8)\n",
      "Requirement already satisfied: optree in /home/jatin/.local/lib/python3.12/site-packages (from keras) (0.13.0)\n",
      "Requirement already satisfied: contourpy>=1.0.1 in /home/jatin/.local/lib/python3.12/site-packages (from matplotlib) (1.3.0)\n",
      "Requirement already satisfied: cycler>=0.10 in /home/jatin/.local/lib/python3.12/site-packages (from matplotlib) (0.12.1)\n",
      "Requirement already satisfied: fonttools>=4.22.0 in /home/jatin/.local/lib/python3.12/site-packages (from matplotlib) (4.53.1)\n",
      "Requirement already satisfied: kiwisolver>=1.3.1 in /home/jatin/.local/lib/python3.12/site-packages (from matplotlib) (1.4.7)\n",
      "Requirement already satisfied: pillow>=8 in /usr/lib/python3/dist-packages (from matplotlib) (10.2.0)\n",
      "Requirement already satisfied: pyparsing>=2.3.1 in /usr/lib/python3/dist-packages (from matplotlib) (3.1.1)\n",
      "Requirement already satisfied: python-dateutil>=2.7 in /home/jatin/.local/lib/python3.12/site-packages (from matplotlib) (2.9.0.post0)\n",
      "Requirement already satisfied: wheel<1.0,>=0.23.0 in /usr/lib/python3/dist-packages (from astunparse>=1.6.0->tensorflow) (0.42.0)\n",
      "Requirement already satisfied: markdown>=2.6.8 in /usr/lib/python3/dist-packages (from tensorboard<2.19,>=2.18->tensorflow) (3.5.2)\n",
      "Requirement already satisfied: tensorboard-data-server<0.8.0,>=0.7.0 in /home/jatin/.local/lib/python3.12/site-packages (from tensorboard<2.19,>=2.18->tensorflow) (0.7.2)\n",
      "Requirement already satisfied: werkzeug>=1.0.1 in /home/jatin/.local/lib/python3.12/site-packages (from tensorboard<2.19,>=2.18->tensorflow) (3.0.6)\n",
      "Requirement already satisfied: markdown-it-py>=2.2.0 in /usr/lib/python3/dist-packages (from rich->keras) (3.0.0)\n",
      "Requirement already satisfied: pygments<3.0.0,>=2.13.0 in /usr/lib/python3/dist-packages (from rich->keras) (2.17.2)\n",
      "Requirement already satisfied: mdurl~=0.1 in /usr/lib/python3/dist-packages (from markdown-it-py>=2.2.0->rich->keras) (0.1.2)\n",
      "Requirement already satisfied: MarkupSafe>=2.1.1 in /usr/lib/python3/dist-packages (from werkzeug>=1.0.1->tensorboard<2.19,>=2.18->tensorflow) (2.1.5)\n",
      "Note: you may need to restart the kernel to use updated packages.\n"
     ]
    }
   ],
   "source": [
    "pip install tensorflow keras numpy matplotlib --break-system-packages\n"
   ]
  },
  {
   "cell_type": "code",
   "execution_count": 3,
   "metadata": {},
   "outputs": [
    {
     "name": "stderr",
     "output_type": "stream",
     "text": [
      "2024-10-31 13:25:28.650011: I tensorflow/core/util/port.cc:153] oneDNN custom operations are on. You may see slightly different numerical results due to floating-point round-off errors from different computation orders. To turn them off, set the environment variable `TF_ENABLE_ONEDNN_OPTS=0`.\n",
      "2024-10-31 13:25:28.650491: I external/local_xla/xla/tsl/cuda/cudart_stub.cc:32] Could not find cuda drivers on your machine, GPU will not be used.\n",
      "2024-10-31 13:25:28.653706: I external/local_xla/xla/tsl/cuda/cudart_stub.cc:32] Could not find cuda drivers on your machine, GPU will not be used.\n",
      "2024-10-31 13:25:28.660927: E external/local_xla/xla/stream_executor/cuda/cuda_fft.cc:477] Unable to register cuFFT factory: Attempting to register factory for plugin cuFFT when one has already been registered\n",
      "WARNING: All log messages before absl::InitializeLog() is called are written to STDERR\n",
      "E0000 00:00:1730361328.674589    8580 cuda_dnn.cc:8310] Unable to register cuDNN factory: Attempting to register factory for plugin cuDNN when one has already been registered\n",
      "E0000 00:00:1730361328.677935    8580 cuda_blas.cc:1418] Unable to register cuBLAS factory: Attempting to register factory for plugin cuBLAS when one has already been registered\n",
      "2024-10-31 13:25:28.690958: I tensorflow/core/platform/cpu_feature_guard.cc:210] This TensorFlow binary is optimized to use available CPU instructions in performance-critical operations.\n",
      "To enable the following instructions: AVX2 AVX512F AVX512_VNNI FMA, in other operations, rebuild TensorFlow with the appropriate compiler flags.\n"
     ]
    }
   ],
   "source": [
    "import os\n",
    "import numpy as np\n",
    "import tensorflow as tf\n",
    "from tensorflow.keras.preprocessing.image import ImageDataGenerator\n",
    "from tensorflow.keras import layers, models\n",
    "from sklearn.model_selection import KFold\n",
    "import matplotlib.pyplot as plt\n",
    "from tensorflow.keras.preprocessing import image"
   ]
  },
  {
   "cell_type": "code",
   "execution_count": 4,
   "metadata": {},
   "outputs": [],
   "source": [
    "dataset_path = 'Dataset2/FNA'\n",
    "test_path = 'Dataset2/test'\n",
    "categories = ['benign', 'malignant']"
   ]
  },
  {
   "cell_type": "code",
   "execution_count": 5,
   "metadata": {},
   "outputs": [],
   "source": [
    "# Hyperparameters\n",
    "batch_size = 32\n",
    "img_height, img_width = 150, 150\n",
    "epochs = 20\n",
    "k = 5  # for K-Fold Cross Validation"
   ]
  },
  {
   "cell_type": "code",
   "execution_count": 6,
   "metadata": {},
   "outputs": [],
   "source": [
    "# Step 1: Data Augmentation and Preprocessing\n",
    "datagen = ImageDataGenerator(\n",
    "    rescale=1./255,\n",
    "    rotation_range=20,\n",
    "    width_shift_range=0.1,\n",
    "    height_shift_range=0.1,\n",
    "    shear_range=0.1,\n",
    "    zoom_range=0.1,\n",
    "    horizontal_flip=True,\n",
    "    fill_mode='nearest'\n",
    ")"
   ]
  },
  {
   "cell_type": "code",
   "execution_count": 8,
   "metadata": {},
   "outputs": [],
   "source": [
    "# Load Data for K-Fold Cross Validation\n",
    "def load_data():\n",
    "    data = []\n",
    "    labels = []\n",
    "    for category in categories:\n",
    "        path = os.path.join(dataset_path, category)\n",
    "        class_num = categories.index(category)\n",
    "        for img in os.listdir(path):\n",
    "            img_path = os.path.join(path, img)\n",
    "            try:\n",
    "                img = image.load_img(img_path, target_size=(img_height, img_width))\n",
    "                img_array = image.img_to_array(img)\n",
    "                data.append(img_array)\n",
    "                labels.append(class_num)\n",
    "            except Exception as e:\n",
    "                print(f\"Error loading image {img_path}: {e}\")\n",
    "    data = np.array(data) / 255.0  # Normalize images\n",
    "    labels = np.array(labels)\n",
    "    return data, labels\n",
    "\n",
    "data, labels = load_data()"
   ]
  },
  {
   "cell_type": "code",
   "execution_count": 9,
   "metadata": {},
   "outputs": [],
   "source": [
    "# Step 2: Define the CNN Model\n",
    "def create_model():\n",
    "    model = models.Sequential([\n",
    "        layers.Conv2D(32, (3, 3), activation='relu', input_shape=(img_height, img_width, 3)),\n",
    "        layers.MaxPooling2D((2, 2)),\n",
    "        layers.Conv2D(64, (3, 3), activation='relu'),\n",
    "        layers.MaxPooling2D((2, 2)),\n",
    "        layers.Conv2D(128, (3, 3), activation='relu'),\n",
    "        layers.MaxPooling2D((2, 2)),\n",
    "        layers.Conv2D(128, (3, 3), activation='relu'),\n",
    "        layers.MaxPooling2D((2, 2)),\n",
    "        layers.Flatten(),\n",
    "        layers.Dense(512, activation='relu'),\n",
    "        layers.Dense(1, activation='sigmoid')\n",
    "    ])\n",
    "    model.compile(optimizer='adam', loss='binary_crossentropy', metrics=['accuracy'])\n",
    "    return model\n"
   ]
  },
  {
   "cell_type": "code",
   "execution_count": null,
   "metadata": {},
   "outputs": [
    {
     "name": "stdout",
     "output_type": "stream",
     "text": [
      "Training fold 1...\n"
     ]
    },
    {
     "name": "stderr",
     "output_type": "stream",
     "text": [
      "/home/jatin/.local/lib/python3.12/site-packages/keras/src/layers/convolutional/base_conv.py:107: UserWarning: Do not pass an `input_shape`/`input_dim` argument to a layer. When using Sequential models, prefer using an `Input(shape)` object as the first layer in the model instead.\n",
      "  super().__init__(activity_regularizer=activity_regularizer, **kwargs)\n",
      "2024-10-31 13:27:35.038777: E external/local_xla/xla/stream_executor/cuda/cuda_driver.cc:152] failed call to cuInit: INTERNAL: CUDA error: Failed call to cuInit: UNKNOWN ERROR (303)\n"
     ]
    },
    {
     "name": "stdout",
     "output_type": "stream",
     "text": [
      "Epoch 1/20\n",
      "44/44 - 13s - 284ms/step - accuracy: 0.6875 - loss: 0.5684 - val_accuracy: 0.8406 - val_loss: 0.3834\n",
      "Epoch 2/20\n",
      "44/44 - 11s - 250ms/step - accuracy: 0.8579 - loss: 0.3706 - val_accuracy: 0.8319 - val_loss: 0.4778\n",
      "Epoch 3/20\n",
      "44/44 - 11s - 245ms/step - accuracy: 0.8883 - loss: 0.3091 - val_accuracy: 0.8986 - val_loss: 0.2852\n",
      "Epoch 4/20\n",
      "44/44 - 13s - 288ms/step - accuracy: 0.8905 - loss: 0.3172 - val_accuracy: 0.8522 - val_loss: 0.4105\n",
      "Epoch 5/20\n",
      "44/44 - 14s - 313ms/step - accuracy: 0.8978 - loss: 0.2845 - val_accuracy: 0.8986 - val_loss: 0.2748\n",
      "Epoch 6/20\n",
      "44/44 - 14s - 310ms/step - accuracy: 0.9072 - loss: 0.2783 - val_accuracy: 0.9072 - val_loss: 0.2708\n",
      "Epoch 7/20\n",
      "44/44 - 14s - 329ms/step - accuracy: 0.9050 - loss: 0.3011 - val_accuracy: 0.8464 - val_loss: 0.4099\n",
      "Epoch 8/20\n",
      "44/44 - 14s - 329ms/step - accuracy: 0.8970 - loss: 0.2987 - val_accuracy: 0.8986 - val_loss: 0.3035\n",
      "Epoch 9/20\n",
      "44/44 - 15s - 352ms/step - accuracy: 0.9159 - loss: 0.2641 - val_accuracy: 0.9014 - val_loss: 0.2591\n",
      "Epoch 10/20\n",
      "44/44 - 15s - 340ms/step - accuracy: 0.9144 - loss: 0.2429 - val_accuracy: 0.9043 - val_loss: 0.2344\n",
      "Epoch 11/20\n",
      "44/44 - 14s - 317ms/step - accuracy: 0.9173 - loss: 0.2358 - val_accuracy: 0.8609 - val_loss: 0.3130\n",
      "Epoch 12/20\n",
      "44/44 - 13s - 300ms/step - accuracy: 0.9144 - loss: 0.2615 - val_accuracy: 0.9101 - val_loss: 0.2993\n",
      "Epoch 13/20\n",
      "44/44 - 14s - 327ms/step - accuracy: 0.9217 - loss: 0.2397 - val_accuracy: 0.9101 - val_loss: 0.2520\n",
      "Epoch 14/20\n",
      "44/44 - 14s - 310ms/step - accuracy: 0.9275 - loss: 0.2146 - val_accuracy: 0.9072 - val_loss: 0.2596\n",
      "Epoch 15/20\n",
      "44/44 - 12s - 271ms/step - accuracy: 0.9326 - loss: 0.2045 - val_accuracy: 0.9101 - val_loss: 0.2385\n",
      "Epoch 16/20\n",
      "44/44 - 12s - 282ms/step - accuracy: 0.9275 - loss: 0.2027 - val_accuracy: 0.9159 - val_loss: 0.2503\n",
      "Epoch 17/20\n",
      "44/44 - 16s - 361ms/step - accuracy: 0.9304 - loss: 0.1970 - val_accuracy: 0.9188 - val_loss: 0.2642\n",
      "Epoch 18/20\n",
      "44/44 - 18s - 414ms/step - accuracy: 0.9340 - loss: 0.1849 - val_accuracy: 0.8957 - val_loss: 0.2596\n",
      "Epoch 19/20\n",
      "44/44 - 21s - 471ms/step - accuracy: 0.9500 - loss: 0.1489 - val_accuracy: 0.9130 - val_loss: 0.2701\n",
      "Epoch 20/20\n",
      "44/44 - 27s - 605ms/step - accuracy: 0.9471 - loss: 0.1506 - val_accuracy: 0.8870 - val_loss: 0.3115\n"
     ]
    }
   ],
   "source": [
    "# Step 3: Implementing K-Fold Cross Validation\n",
    "kf = KFold(n_splits=k, shuffle=True)\n",
    "fold_no = 1\n",
    "history_dict = {}\n",
    "\n",
    "for train_index, val_index in kf.split(data):\n",
    "    print(f\"Training fold {fold_no}...\")\n",
    "    model = create_model()\n",
    "    \n",
    "    # Splitting data for the fold\n",
    "    train_data, val_data = data[train_index], data[val_index]\n",
    "    train_labels, val_labels = labels[train_index], labels[val_index]\n",
    "    \n",
    "    # Train model\n",
    "    history = model.fit(\n",
    "        train_data, train_labels,\n",
    "        epochs=epochs,\n",
    "        batch_size=batch_size,\n",
    "        validation_data=(val_data, val_labels),\n",
    "        verbose=2\n",
    "    )\n",
    "    \n",
    "    # Save history for plotting\n",
    "    history_dict[fold_no] = history\n",
    "    fold_no += 1\n"
   ]
  },
  {
   "cell_type": "code",
   "execution_count": null,
   "metadata": {},
   "outputs": [],
   "source": [
    "# Step 4: Plot Training and Validation Loss/Accuracy\n",
    "def plot_metrics(history_dict):\n",
    "    for fold, history in history_dict.items():\n",
    "        plt.plot(history.history['accuracy'], label=f'Train Acc Fold {fold}')\n",
    "        plt.plot(history.history['val_accuracy'], label=f'Val Acc Fold {fold}')\n",
    "    \n",
    "    plt.xlabel('Epoch')\n",
    "    plt.ylabel('Accuracy')\n",
    "    plt.legend(loc='lower right')\n",
    "    plt.title('Training and Validation Accuracy')\n",
    "    plt.show()\n",
    "\n",
    "plot_metrics(history_dict)"
   ]
  },
  {
   "cell_type": "code",
   "execution_count": null,
   "metadata": {},
   "outputs": [],
   "source": [
    "# Step 5: Load and Predict Unlabelled Test Images\n",
    "test_images = []\n",
    "for img_name in os.listdir(test_path):\n",
    "    img_path = os.path.join(test_path, img_name)\n",
    "    img = image.load_img(img_path, target_size=(img_height, img_width))\n",
    "    img_array = image.img_to_array(img)\n",
    "    img_array = np.expand_dims(img_array, axis=0)  # Model expects a batch of images\n",
    "    test_images.append((img_name, img_array / 255.0))  # Normalize\n"
   ]
  },
  {
   "cell_type": "code",
   "execution_count": null,
   "metadata": {},
   "outputs": [],
   "source": [
    "\n",
    "# Use the final model to make predictions on test data\n",
    "for img_name, img_array in test_images:\n",
    "    prediction = model.predict(img_array)\n",
    "    class_label = 'Malignant' if prediction[0][0] > 0.5 else 'Benign'\n",
    "    print(f\"Image: {img_name} | Prediction: {class_label}\")\n"
   ]
  },
  {
   "cell_type": "code",
   "execution_count": null,
   "metadata": {},
   "outputs": [],
   "source": [
    "# Step 6: Save the model\n",
    "model.save('22CS30032_A2/final_model.h5')"
   ]
  }
 ],
 "metadata": {
  "kernelspec": {
   "display_name": "Python 3",
   "language": "python",
   "name": "python3"
  },
  "language_info": {
   "codemirror_mode": {
    "name": "ipython",
    "version": 3
   },
   "file_extension": ".py",
   "mimetype": "text/x-python",
   "name": "python",
   "nbconvert_exporter": "python",
   "pygments_lexer": "ipython3",
   "version": "3.12.3"
  }
 },
 "nbformat": 4,
 "nbformat_minor": 2
}
