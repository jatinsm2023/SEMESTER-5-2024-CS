{
 "cells": [
  {
   "cell_type": "code",
   "execution_count": null,
   "metadata": {},
   "outputs": [],
   "source": []
  },
  {
   "cell_type": "code",
   "execution_count": 2,
   "metadata": {},
   "outputs": [],
   "source": [
    "import pandas as pd\n",
    "import numpy as np\n",
    "import matplotlib.pyplot as plt\n",
    "import seaborn as sns\n",
    "\n",
    "from sklearn.model_selection import train_test_split\n",
    "from sklearn.metrics import accuracy_score, log_loss\n"
   ]
  },
  {
   "cell_type": "code",
   "execution_count": 3,
   "metadata": {},
   "outputs": [
    {
     "name": "stdout",
     "output_type": "stream",
     "text": [
      "   Age   Race Marital Status T Stage N Stage 6th Stage  \\\n",
      "0   68  White        Married      T1      N1       IIA   \n",
      "1   50  White        Married      T2      N2      IIIA   \n",
      "2   58  White       Divorced      T3      N3      IIIC   \n",
      "3   58  White        Married      T1      N1       IIA   \n",
      "4   47  White        Married      T2      N1       IIB   \n",
      "\n",
      "               differentiate Grade   A Stage  Tumor Size Estrogen Status  \\\n",
      "0      Poorly differentiated     3  Regional           4        Positive   \n",
      "1  Moderately differentiated     2  Regional          35        Positive   \n",
      "2  Moderately differentiated     2  Regional          63        Positive   \n",
      "3      Poorly differentiated     3  Regional          18        Positive   \n",
      "4      Poorly differentiated     3  Regional          41        Positive   \n",
      "\n",
      "  Progesterone Status  Regional Node Examined  Reginol Node Positive  \\\n",
      "0            Positive                      24                      1   \n",
      "1            Positive                      14                      5   \n",
      "2            Positive                      14                      7   \n",
      "3            Positive                       2                      1   \n",
      "4            Positive                       3                      1   \n",
      "\n",
      "   Survival Months Status  \n",
      "0               60  Alive  \n",
      "1               62  Alive  \n",
      "2               75  Alive  \n",
      "3               84  Alive  \n",
      "4               50  Alive  \n"
     ]
    }
   ],
   "source": [
    "df = pd.read_csv('Breast_Cancer.csv')\n",
    "print(df.head())"
   ]
  },
  {
   "cell_type": "code",
   "execution_count": 4,
   "metadata": {},
   "outputs": [
    {
     "name": "stdout",
     "output_type": "stream",
     "text": [
      "   Age  Race  Marital Status  T Stage  N Stage  6th Stage  differentiate  \\\n",
      "0   68     2               1        0        0          0              1   \n",
      "1   50     2               1        1        1          2              0   \n",
      "2   58     2               0        2        2          4              0   \n",
      "3   58     2               1        0        0          0              1   \n",
      "4   47     2               1        1        0          1              1   \n",
      "\n",
      "  Grade  A Stage  Tumor Size  Estrogen Status  Progesterone Status  \\\n",
      "0     3        1           4                1                    1   \n",
      "1     2        1          35                1                    1   \n",
      "2     2        1          63                1                    1   \n",
      "3     3        1          18                1                    1   \n",
      "4     3        1          41                1                    1   \n",
      "\n",
      "   Regional Node Examined  Reginol Node Positive  Survival Months  Status  \n",
      "0                      24                      1               60       0  \n",
      "1                      14                      5               62       0  \n",
      "2                      14                      7               75       0  \n",
      "3                       2                      1               84       0  \n",
      "4                       3                      1               50       0  \n"
     ]
    }
   ],
   "source": [
    "string_coloumn = ['Race','Marital Status','T Stage','N Stage', '6th Stage','differentiate','A Stage','Estrogen Status','Progesterone Status','Status']\n",
    "# conver string to int\n",
    "for i in string_coloumn:\n",
    "    df[i] = df[i].astype('category').cat.codes\n",
    "    \n",
    "print(df.head())"
   ]
  },
  {
   "cell_type": "code",
   "execution_count": null,
   "metadata": {},
   "outputs": [],
   "source": []
  }
 ],
 "metadata": {
  "kernelspec": {
   "display_name": "Python 3",
   "language": "python",
   "name": "python3"
  },
  "language_info": {
   "codemirror_mode": {
    "name": "ipython",
    "version": 3
   },
   "file_extension": ".py",
   "mimetype": "text/x-python",
   "name": "python",
   "nbconvert_exporter": "python",
   "pygments_lexer": "ipython3",
   "version": "3.12.3"
  }
 },
 "nbformat": 4,
 "nbformat_minor": 2
}
