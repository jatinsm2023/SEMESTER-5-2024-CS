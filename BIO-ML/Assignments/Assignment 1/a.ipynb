{
 "cells": [
  {
   "cell_type": "markdown",
   "id": "78ae8209-59d7-465d-9193-b0a5f23109f2",
   "metadata": {},
   "source": [
    "<small>### Problem Statement\n",
    "Estimate individual medical insurance expenses based on factors such as age, BMI, smoking status, and other health-related variables.\n",
    "\n",
    "### Data Description\n",
    "**Dataset Filename:** `data_insurance.csv`\n",
    "\n",
    "#### Attributes Information:\n",
    "1. **age:** Age of the primary policyholder.\n",
    "2. **sex:** Gender of the insurance policyholder (female or male).\n",
    "3. **bmi:** Body Mass Index, a measure that uses the ratio of weight to height (kg/m²) to categorize body weight, ideally ranging from 18.5 to 24.9.\n",
    "4. **children:** Number of dependents covered by the health insurance.\n",
    "5. **smoker:** Indicates if the person smokes.\n",
    "6. **region:** The geographical area in the U.S. where the policyholder resides (northeast, southeast, southwest, northwest).\n",
    "\n",
    "**Target:**\n",
    "- **charges:** Medical expenses billed to the insurance for the individual.</small>"
   ]
  },
  {
   "cell_type": "code",
   "execution_count": 17,
   "id": "c2d849f0-1b2a-4b46-95a3-ebd2b3b9189e",
   "metadata": {},
   "outputs": [],
   "source": [
    "import numpy as np\n",
    "import pandas as pd\n",
    "import matplotlib.pyplot as plt\n",
    "import copy\n",
    "import math\n",
    "import random"
   ]
  },
  {
   "cell_type": "markdown",
   "id": "18928b1c-12a1-4e2f-b963-cc4003a39f3b",
   "metadata": {},
   "source": [
    "#### <small> Reading the data\n",
    "Here we read the data from the file and store it in a pandas dataframe.</small>"
   ]
  },
  {
   "cell_type": "code",
   "execution_count": 19,
   "id": "d11bd93d-9d47-4345-8344-bb78b542d1f8",
   "metadata": {},
   "outputs": [],
   "source": [
    "filepath = 'data_insurance.csv'\n",
    "\n",
    "df = pd.read_csv(filepath)"
   ]
  },
  {
   "cell_type": "markdown",
   "id": "11860af7-c448-4eb5-a71b-ed8a2f5581bf",
   "metadata": {},
   "source": [
    "###  <small>Explore the data\n",
    "We explore the first few rows of the dataset and describe it</small>"
   ]
  },
  {
   "cell_type": "code",
   "execution_count": 23,
   "id": "25abded8-fd85-493b-998f-e7aea0ea76bc",
   "metadata": {},
   "outputs": [
    {
     "name": "stdout",
     "output_type": "stream",
     "text": [
      "First few rows of the dataset:\n",
      "   age     sex     bmi  children smoker     region      charges\n",
      "0   19  female  27.900         0    yes  southwest  16884.92400\n",
      "1   18    male  33.770         1     no  southeast   1725.55230\n",
      "2   28    male  33.000         3     no  southeast   4449.46200\n",
      "3   33    male  22.705         0     no  northwest  21984.47061\n",
      "4   32    male  28.880         0     no  northwest   3866.85520\n",
      "\n",
      "Summary statistics:\n",
      "               age          bmi     children       charges\n",
      "count  1338.000000  1338.000000  1338.000000   1338.000000\n",
      "mean     39.207025    30.663397     1.094918  13270.422265\n",
      "std      14.049960     6.098187     1.205493  12110.011237\n",
      "min      18.000000    15.960000     0.000000   1121.873900\n",
      "25%      27.000000    26.296250     0.000000   4740.287150\n",
      "50%      39.000000    30.400000     1.000000   9382.033000\n",
      "75%      51.000000    34.693750     2.000000  16639.912515\n",
      "max      64.000000    53.130000     5.000000  63770.428010\n",
      "\n",
      "Data types of each column:\n",
      "age           int64\n",
      "sex          object\n",
      "bmi         float64\n",
      "children      int64\n",
      "smoker       object\n",
      "region       object\n",
      "charges     float64\n",
      "dtype: object\n"
     ]
    }
   ],
   "source": [
    "print(\"First few rows of the dataset:\")\n",
    "print(df.head())\n",
    "\n",
    "print(\"\\nSummary statistics:\")\n",
    "print(df.describe())\n",
    "\n",
    "print(\"\\nData types of each column:\")\n",
    "print(df.dtypes)"
   ]
  },
  {
   "cell_type": "markdown",
   "id": "2afe6e99-39ca-4cb8-badc-75195fab06ef",
   "metadata": {},
   "source": [
    "###  <small>Handling missing data\n",
    "1. Option 1: Fill missing values with a specific value (e.g., mean)\n",
    "2. Option 2: Drop rows/columns with missing values</small>"
   ]
  },
  {
   "cell_type": "code",
   "execution_count": 24,
   "id": "93125e5b-a2f2-4978-b223-3177ee2b5842",
   "metadata": {},
   "outputs": [
    {
     "name": "stdout",
     "output_type": "stream",
     "text": [
      "\n",
      "Missing values in each column:\n",
      "age         0\n",
      "sex         0\n",
      "bmi         0\n",
      "children    0\n",
      "smoker      0\n",
      "region      0\n",
      "charges     0\n",
      "dtype: int64\n",
      "\n",
      "No missing values found in the dataset.\n"
     ]
    }
   ],
   "source": [
    "missing_values = df.isnull().sum()\n",
    "print(\"\\nMissing values in each column:\")\n",
    "print(missing_values)\n",
    "\n",
    "if missing_values.sum() > 0:\n",
    "    df.fillna(df.mean(), inplace=True)\n",
    "    print(\"\\nMissing values were found and have been filled with the mean of each column.\")\n",
    "\n",
    "    #df.dropna(inplace=True)\n",
    "    #print(\"\\nMissing values were found and have been dropped.\")\n",
    "    \n",
    "    print(\"\\nMissing values after handling:\")\n",
    "    print(df.isnull().sum())\n",
    "else:\n",
    "    print(\"\\nNo missing values found in the dataset.\")"
   ]
  },
  {
   "cell_type": "markdown",
   "id": "29078d7d-0e2c-4fa0-a490-dec99be40cb6",
   "metadata": {},
   "source": [
    "### <small> Converting Categorical Variables\n",
    "We convert non-numeric features like 'sex', 'smoker' and 'region' into numerical values using encoding techniques.\n",
    "\n",
    "Since 'sex' and 'smoker' have binary values, we use **label_encoding** on them. \\\n",
    "'region' has multiple values, hence we use **one-hot encoding**.</small>"
   ]
  },
  {
   "cell_type": "code",
   "execution_count": 25,
   "id": "0e3cd015-b51b-4f56-b7da-355e7d4109a2",
   "metadata": {},
   "outputs": [],
   "source": [
    "df['sex'] = df['sex'].apply(lambda x: 1 if x == 'male' else 0)\n",
    "df['smoker'] = df['smoker'].apply(lambda x: 1 if x == 'yes' else 0)\n",
    "\n",
    "df = pd.get_dummies(df, columns=['region'], drop_first=True)"
   ]
  },
  {
   "cell_type": "markdown",
   "id": "c2f04a42-14b8-4fd8-b276-275312982d77",
   "metadata": {},
   "source": [
    "### <small> Feature Scaling\n",
    "We perform feature scaling to bring all features into the same range. \n",
    "This is essential for gradient descent to converge faster. Here, we'll use **standardization**.\n",
    "We subtract the mean and divide by the standard deviation.</small>"
   ]
  },
  {
   "cell_type": "code",
   "execution_count": 26,
   "id": "5859159a-c16a-4044-b767-dfa235ea03b1",
   "metadata": {},
   "outputs": [
    {
     "data": {
      "text/html": [
       "<div>\n",
       "<style scoped>\n",
       "    .dataframe tbody tr th:only-of-type {\n",
       "        vertical-align: middle;\n",
       "    }\n",
       "\n",
       "    .dataframe tbody tr th {\n",
       "        vertical-align: top;\n",
       "    }\n",
       "\n",
       "    .dataframe thead th {\n",
       "        text-align: right;\n",
       "    }\n",
       "</style>\n",
       "<table border=\"1\" class=\"dataframe\">\n",
       "  <thead>\n",
       "    <tr style=\"text-align: right;\">\n",
       "      <th></th>\n",
       "      <th>age</th>\n",
       "      <th>sex</th>\n",
       "      <th>bmi</th>\n",
       "      <th>children</th>\n",
       "      <th>smoker</th>\n",
       "      <th>charges</th>\n",
       "      <th>region_northwest</th>\n",
       "      <th>region_southeast</th>\n",
       "      <th>region_southwest</th>\n",
       "    </tr>\n",
       "  </thead>\n",
       "  <tbody>\n",
       "    <tr>\n",
       "      <th>0</th>\n",
       "      <td>-1.438227</td>\n",
       "      <td>-1.010141</td>\n",
       "      <td>-0.453151</td>\n",
       "      <td>-0.908274</td>\n",
       "      <td>1.969850</td>\n",
       "      <td>16884.92400</td>\n",
       "      <td>-0.566206</td>\n",
       "      <td>-0.611095</td>\n",
       "      <td>1.764821</td>\n",
       "    </tr>\n",
       "    <tr>\n",
       "      <th>1</th>\n",
       "      <td>-1.509401</td>\n",
       "      <td>0.989221</td>\n",
       "      <td>0.509431</td>\n",
       "      <td>-0.078738</td>\n",
       "      <td>-0.507273</td>\n",
       "      <td>1725.55230</td>\n",
       "      <td>-0.566206</td>\n",
       "      <td>1.635183</td>\n",
       "      <td>-0.566206</td>\n",
       "    </tr>\n",
       "    <tr>\n",
       "      <th>2</th>\n",
       "      <td>-0.797655</td>\n",
       "      <td>0.989221</td>\n",
       "      <td>0.383164</td>\n",
       "      <td>1.580335</td>\n",
       "      <td>-0.507273</td>\n",
       "      <td>4449.46200</td>\n",
       "      <td>-0.566206</td>\n",
       "      <td>1.635183</td>\n",
       "      <td>-0.566206</td>\n",
       "    </tr>\n",
       "    <tr>\n",
       "      <th>3</th>\n",
       "      <td>-0.441782</td>\n",
       "      <td>0.989221</td>\n",
       "      <td>-1.305043</td>\n",
       "      <td>-0.908274</td>\n",
       "      <td>-0.507273</td>\n",
       "      <td>21984.47061</td>\n",
       "      <td>1.764821</td>\n",
       "      <td>-0.611095</td>\n",
       "      <td>-0.566206</td>\n",
       "    </tr>\n",
       "    <tr>\n",
       "      <th>4</th>\n",
       "      <td>-0.512957</td>\n",
       "      <td>0.989221</td>\n",
       "      <td>-0.292447</td>\n",
       "      <td>-0.908274</td>\n",
       "      <td>-0.507273</td>\n",
       "      <td>3866.85520</td>\n",
       "      <td>1.764821</td>\n",
       "      <td>-0.611095</td>\n",
       "      <td>-0.566206</td>\n",
       "    </tr>\n",
       "  </tbody>\n",
       "</table>\n",
       "</div>"
      ],
      "text/plain": [
       "        age       sex       bmi  children    smoker      charges  \\\n",
       "0 -1.438227 -1.010141 -0.453151 -0.908274  1.969850  16884.92400   \n",
       "1 -1.509401  0.989221  0.509431 -0.078738 -0.507273   1725.55230   \n",
       "2 -0.797655  0.989221  0.383164  1.580335 -0.507273   4449.46200   \n",
       "3 -0.441782  0.989221 -1.305043 -0.908274 -0.507273  21984.47061   \n",
       "4 -0.512957  0.989221 -0.292447 -0.908274 -0.507273   3866.85520   \n",
       "\n",
       "   region_northwest  region_southeast  region_southwest  \n",
       "0         -0.566206         -0.611095          1.764821  \n",
       "1         -0.566206          1.635183         -0.566206  \n",
       "2         -0.566206          1.635183         -0.566206  \n",
       "3          1.764821         -0.611095         -0.566206  \n",
       "4          1.764821         -0.611095         -0.566206  "
      ]
     },
     "execution_count": 26,
     "metadata": {},
     "output_type": "execute_result"
    }
   ],
   "source": [
    "target_column = 'charges'\n",
    "df_standardized = df.copy()\n",
    "\n",
    "for column in df_standardized.columns:\n",
    "    if column != target_column:\n",
    "        mean = df_standardized[column].mean()\n",
    "        std = df_standardized[column].std()\n",
    "        df_standardized[column] = (df_standardized[column] - mean) / std\n",
    "\n",
    "df_standardized.head()"
   ]
  },
  {
   "cell_type": "markdown",
   "id": "b4d6df1a-1b61-4b4a-bd64-cba288480554",
   "metadata": {},
   "source": [
    "###  <small>Train-Test Split\n",
    "We split the data into training and testing sets for evaluating the model's performance.</small>"
   ]
  },
  {
   "cell_type": "code",
   "execution_count": 29,
   "id": "101bf456-48b5-4de4-9d0e-7750d6d571d7",
   "metadata": {},
   "outputs": [
    {
     "ename": "ModuleNotFoundError",
     "evalue": "No module named 'sklearn'",
     "output_type": "error",
     "traceback": [
      "\u001b[0;31m---------------------------------------------------------------------------\u001b[0m",
      "\u001b[0;31mModuleNotFoundError\u001b[0m                       Traceback (most recent call last)",
      "Cell \u001b[0;32mIn[29], line 1\u001b[0m\n\u001b[0;32m----> 1\u001b[0m \u001b[38;5;28;01mfrom\u001b[39;00m \u001b[38;5;21;01msklearn\u001b[39;00m\u001b[38;5;21;01m.\u001b[39;00m\u001b[38;5;21;01mmodel_selection\u001b[39;00m \u001b[38;5;28;01mimport\u001b[39;00m train_test_split\n\u001b[1;32m      3\u001b[0m X \u001b[38;5;241m=\u001b[39m df_standardized\u001b[38;5;241m.\u001b[39mdrop(columns\u001b[38;5;241m=\u001b[39m[target_column])\u001b[38;5;241m.\u001b[39mvalues\n\u001b[1;32m      4\u001b[0m y \u001b[38;5;241m=\u001b[39m df_standardized[target_column]\u001b[38;5;241m.\u001b[39mvalues\n",
      "\u001b[0;31mModuleNotFoundError\u001b[0m: No module named 'sklearn'"
     ]
    }
   ],
   "source": [
    "from sklearn.model_selection import train_test_split\n",
    "\n",
    "X = df_standardized.drop(columns=[target_column]).values\n",
    "y = df_standardized[target_column].values\n",
    "\n",
    "X_train, X_test, y_train, y_test = train_test_split(X, y, test_size=0.2, random_state=42)"
   ]
  },
  {
   "cell_type": "markdown",
   "id": "49764ed7-d8d7-4c7e-84a8-8667391678e0",
   "metadata": {},
   "source": [
    "<small>### Gradient Descent Implementation\n",
    "We implement gradient descent for linear regression.</small>"
   ]
  },
  {
   "cell_type": "code",
   "execution_count": 221,
   "id": "1d07c7ab-16c5-4855-b7c4-6b9f0e780d22",
   "metadata": {},
   "outputs": [],
   "source": [
    "def compute_cost(X, y, theta):\n",
    "    m = len(y)\n",
    "    predictions = X.dot(theta)\n",
    "    cost = (1/(2*m)) * np.sum(np.square(predictions - y))\n",
    "    return cost\n",
    "\n",
    "def gradient_descent(X, y, theta, learning_rate, iterations):\n",
    "    m = len(y)\n",
    "    cost_history = []\n",
    "\n",
    "    for i in range(iterations):\n",
    "        predictions = X.dot(theta)\n",
    "        errors = predictions - y\n",
    "        gradients = (1/m) * X.T.dot(errors)\n",
    "        theta -= learning_rate * gradients\n",
    "\n",
    "        cost = compute_cost(X, y, theta)\n",
    "        cost_history.append(cost)\n",
    "\n",
    "        if i % 100 == 0:\n",
    "            print(f\"Iteration {i}: Cost {cost}\")\n",
    "\n",
    "    return theta, cost_history\n",
    "\n",
    "def add_intercept(X):\n",
    "    intercept = np.ones((X.shape[0], 1))\n",
    "    return np.hstack((intercept, X))\n",
    "\n",
    "# Prepare the data with an intercept\n",
    "X_train_intercept = add_intercept(X_train)\n",
    "\n",
    "# Initialize parameters\n",
    "theta = np.zeros(X_train_intercept.shape[1])\n",
    "iterations = 1000\n",
    "learning_rate = 0.01\n",
    "\n",
    "# Perform gradient descent\n",
    "theta, cost_history = gradient_descent(X_train_intercept, y_train, theta, learning_rate, iterations)\n",
    "\n",
    "theta"
   ]
  },
  {
   "cell_type": "markdown",
   "id": "649256ac-e72a-4fa5-9887-81e5c5a1339b",
   "metadata": {},
   "source": [
    "<small>### Evaluating the Model\n",
    "We evaluate the model by computing the cost on the test set.</small>"
   ]
  },
  {
   "cell_type": "code",
   "execution_count": 223,
   "id": "42c81c4d-b403-4b71-9876-84d24923e940",
   "metadata": {},
   "outputs": [
    {
     "name": "stdout",
     "output_type": "stream",
     "text": [
      "Test set cost: 0.2640510469543897\n"
     ]
    }
   ],
   "source": [
    "# Prepare test data with intercept\n",
    "X_test_intercept = add_intercept(X_test)\n",
    "\n",
    "# Compute cost on the test set\n",
    "test_cost = compute_cost(X_test_intercept, y_test, theta)\n",
    "print(f\"Test set cost: {test_cost}\")"
   ]
  },
  {
   "cell_type": "markdown",
   "id": "7b0f1a25-b70f-4bde-a747-70b1e6256b22",
   "metadata": {},
   "source": [
    "<small>### Visualizing the Cost History\n",
    "We plot the cost history to observe the convergence of gradient descent.</small>"
   ]
  },
  {
   "cell_type": "code",
   "execution_count": 224,
   "id": "4c11a841-4b44-405d-8858-66354b1d04ac",
   "metadata": {},
   "outputs": [],
   "source": [
    "plt.plot(range(iterations), cost_history, 'b-', linewidth=2)\n",
    "plt.xlabel('Iterations')\n",
    "plt.ylabel('Cost')\n",
    "plt.title('Cost Function Convergence')\n",
    "plt.show()"
   ]
  }
 ],
 "metadata": {
  "kernelspec": {
   "display_name": "Python 3",
   "language": "python",
   "name": "python3"
  },
  "language_info": {
   "codemirror_mode": {
    "name": "ipython",
    "version": 3
   },
   "file_extension": ".py",
   "mimetype": "text/x-python",
   "name": "python",
   "nbconvert_exporter": "python",
   "version": "3.10.12"
  }
 },
 "nbformat": 4,
 "nbformat_minor": 5
}
