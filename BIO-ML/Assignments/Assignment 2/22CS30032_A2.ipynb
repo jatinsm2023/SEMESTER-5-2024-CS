{
 "cells": [
  {
   "cell_type": "markdown",
   "id": "f028ab35-da15-43eb-aa5f-746bf56d354f",
   "metadata": {},
   "source": [
    "### Logistic Regression Task\n",
    "#### Objective:\n",
    "The objective of this project is to perform binary classification of a dataset to predict the 10-year risk of coronary heart disease (CHD) into two classes:\n",
    "- Having risk (1)\n",
    "- Not having risk (0)\n",
    "\n",
    "#### Dataset Details:\n",
    "\n",
    "**1. Demographic:**\n",
    "- **Sex:** Male or Female\n",
    "- **Age:** Age of the patient\n",
    "- **Education:** No further information provided\n",
    "\n",
    "**2. Behavioral:**\n",
    "- **Current Smoker:** Whether or not the patient is a current smoker\n",
    "- **Cigs Per Day:** The number of cigarettes that the person smoked on average per day\n",
    "\n",
    "**3. Information on Medical History:**\n",
    "- **BP Meds:** Whether or not the patient was on blood pressure medication\n",
    "- **Prevalent Stroke:** Whether or not the patient had previously had a stroke\n",
    "- **Prevalent Hyp:** Whether or not the patient was hypertensive\n",
    "- **Diabetes:** Whether or not the patient had diabetes\n",
    "\n",
    "**4. Information on Current Medical Condition:**\n",
    "- **Tot Chol:** Total cholesterol level\n",
    "- **Sys BP:** Systolic blood pressure\n",
    "- **Dia BP:** Diastolic blood pressure\n",
    "- **BMI:** Body Mass Index\n",
    "- **Heart Rate:** Heart rate (considered continuous in medical research)\n",
    "- **Glucose:** Glucose level\n",
    "\n",
    "**Target Variable:**\n",
    "- **10-year Risk of Coronary Heart Disease (CHD):** Binary classification (1 = Yes, 0 = No)\n",
    "\n",
    "#### Tasks:\n",
    "1. Use Logistic Regression to classify the risk of coronary heart disease based on the provided attributes.\n",
    "2. Evaluate the model's accuracy using appropriate evaluation metrics.\n"
   ]
  },
  {
   "cell_type": "code",
   "execution_count": 54,
   "id": "de3e8133-9d2a-45b7-857e-ab47c0dbd3ad",
   "metadata": {},
   "outputs": [],
   "source": [
    "import numpy as np\n",
    "import pandas as pd\n",
    "import matplotlib.pyplot as plt\n",
    "import random\n",
    "import copy\n",
    "import math"
   ]
  },
  {
   "cell_type": "markdown",
   "id": "56e94e64-2b86-46f9-bcfe-887b636edd4c",
   "metadata": {},
   "source": [
    "### Reading the data\n",
    "We read the csv file into a pandas dataframe."
   ]
  },
  {
   "cell_type": "code",
   "execution_count": 55,
   "id": "b689b74d-e8c3-4049-98ab-205b3840f874",
   "metadata": {},
   "outputs": [],
   "source": [
    "filepath = 'framingham.csv'\n",
    "\n",
    "df = pd.read_csv(filepath)"
   ]
  },
  {
   "cell_type": "markdown",
   "id": "0a3a0e83-160e-4911-9458-ef2403f9574d",
   "metadata": {},
   "source": [
    "### Explore the data\n",
    "We explore the first few rows of the dataset and describe it"
   ]
  },
  {
   "cell_type": "code",
   "execution_count": 56,
   "id": "db107550-e1a2-4d12-a30d-0d48c684117a",
   "metadata": {},
   "outputs": [
    {
     "name": "stdout",
     "output_type": "stream",
     "text": [
      "First few rows of the dataset:\n",
      "   male  age  education  currentSmoker  cigsPerDay  BPMeds  prevalentStroke  \\\n",
      "0     1   39        4.0              0         0.0     0.0                0   \n",
      "1     0   46        2.0              0         0.0     0.0                0   \n",
      "2     1   48        1.0              1        20.0     0.0                0   \n",
      "3     0   61        3.0              1        30.0     0.0                0   \n",
      "4     0   46        3.0              1        23.0     0.0                0   \n",
      "\n",
      "   prevalentHyp  diabetes  totChol  sysBP  diaBP    BMI  heartRate  glucose  \\\n",
      "0             0         0    195.0  106.0   70.0  26.97       80.0     77.0   \n",
      "1             0         0    250.0  121.0   81.0  28.73       95.0     76.0   \n",
      "2             0         0    245.0  127.5   80.0  25.34       75.0     70.0   \n",
      "3             1         0    225.0  150.0   95.0  28.58       65.0    103.0   \n",
      "4             0         0    285.0  130.0   84.0  23.10       85.0     85.0   \n",
      "\n",
      "   TenYearCHD  \n",
      "0           0  \n",
      "1           0  \n",
      "2           0  \n",
      "3           1  \n",
      "4           0  \n",
      "\n",
      "Summary statistics:\n",
      "              male          age    education  currentSmoker   cigsPerDay  \\\n",
      "count  4240.000000  4240.000000  4135.000000    4240.000000  4211.000000   \n",
      "mean      0.429245    49.580189     1.979444       0.494104     9.005937   \n",
      "std       0.495027     8.572942     1.019791       0.500024    11.922462   \n",
      "min       0.000000    32.000000     1.000000       0.000000     0.000000   \n",
      "25%       0.000000    42.000000     1.000000       0.000000     0.000000   \n",
      "50%       0.000000    49.000000     2.000000       0.000000     0.000000   \n",
      "75%       1.000000    56.000000     3.000000       1.000000    20.000000   \n",
      "max       1.000000    70.000000     4.000000       1.000000    70.000000   \n",
      "\n",
      "            BPMeds  prevalentStroke  prevalentHyp     diabetes      totChol  \\\n",
      "count  4187.000000      4240.000000   4240.000000  4240.000000  4190.000000   \n",
      "mean      0.029615         0.005896      0.310613     0.025708   236.699523   \n",
      "std       0.169544         0.076569      0.462799     0.158280    44.591284   \n",
      "min       0.000000         0.000000      0.000000     0.000000   107.000000   \n",
      "25%       0.000000         0.000000      0.000000     0.000000   206.000000   \n",
      "50%       0.000000         0.000000      0.000000     0.000000   234.000000   \n",
      "75%       0.000000         0.000000      1.000000     0.000000   263.000000   \n",
      "max       1.000000         1.000000      1.000000     1.000000   696.000000   \n",
      "\n",
      "             sysBP        diaBP          BMI    heartRate      glucose  \\\n",
      "count  4240.000000  4240.000000  4221.000000  4239.000000  3852.000000   \n",
      "mean    132.354599    82.897759    25.800801    75.878981    81.963655   \n",
      "std      22.033300    11.910394     4.079840    12.025348    23.954335   \n",
      "min      83.500000    48.000000    15.540000    44.000000    40.000000   \n",
      "25%     117.000000    75.000000    23.070000    68.000000    71.000000   \n",
      "50%     128.000000    82.000000    25.400000    75.000000    78.000000   \n",
      "75%     144.000000    90.000000    28.040000    83.000000    87.000000   \n",
      "max     295.000000   142.500000    56.800000   143.000000   394.000000   \n",
      "\n",
      "        TenYearCHD  \n",
      "count  4240.000000  \n",
      "mean      0.151887  \n",
      "std       0.358953  \n",
      "min       0.000000  \n",
      "25%       0.000000  \n",
      "50%       0.000000  \n",
      "75%       0.000000  \n",
      "max       1.000000  \n",
      "\n",
      "Data types of each column:\n",
      "male                 int64\n",
      "age                  int64\n",
      "education          float64\n",
      "currentSmoker        int64\n",
      "cigsPerDay         float64\n",
      "BPMeds             float64\n",
      "prevalentStroke      int64\n",
      "prevalentHyp         int64\n",
      "diabetes             int64\n",
      "totChol            float64\n",
      "sysBP              float64\n",
      "diaBP              float64\n",
      "BMI                float64\n",
      "heartRate          float64\n",
      "glucose            float64\n",
      "TenYearCHD           int64\n",
      "dtype: object\n"
     ]
    }
   ],
   "source": [
    "print(\"First few rows of the dataset:\")\n",
    "print(df.head())\n",
    "\n",
    "print(\"\\nSummary statistics:\")\n",
    "print(df.describe())\n",
    "\n",
    "print(\"\\nData types of each column:\")\n",
    "print(df.dtypes)"
   ]
  },
  {
   "cell_type": "markdown",
   "id": "857a5a06-388c-452e-971c-62131ae4e9c4",
   "metadata": {},
   "source": [
    "### Handling missing data\n",
    "1. Option 1: Fill missing values with a specific value (e.g., mean)\n",
    "2. Option 2: Drop rows/columns with missing values"
   ]
  },
  {
   "cell_type": "code",
   "execution_count": 57,
   "id": "920d80c8-f0dd-4e3d-bc43-8b2efff2e052",
   "metadata": {},
   "outputs": [
    {
     "name": "stdout",
     "output_type": "stream",
     "text": [
      "\n",
      "Missing values in each column:\n",
      "male                 0\n",
      "age                  0\n",
      "education          105\n",
      "currentSmoker        0\n",
      "cigsPerDay          29\n",
      "BPMeds              53\n",
      "prevalentStroke      0\n",
      "prevalentHyp         0\n",
      "diabetes             0\n",
      "totChol             50\n",
      "sysBP                0\n",
      "diaBP                0\n",
      "BMI                 19\n",
      "heartRate            1\n",
      "glucose            388\n",
      "TenYearCHD           0\n",
      "dtype: int64\n",
      "\n",
      "Missing values were found and have been filled with the mean of each column.\n",
      "\n",
      "Missing values after handling:\n",
      "male               0\n",
      "age                0\n",
      "education          0\n",
      "currentSmoker      0\n",
      "cigsPerDay         0\n",
      "BPMeds             0\n",
      "prevalentStroke    0\n",
      "prevalentHyp       0\n",
      "diabetes           0\n",
      "totChol            0\n",
      "sysBP              0\n",
      "diaBP              0\n",
      "BMI                0\n",
      "heartRate          0\n",
      "glucose            0\n",
      "TenYearCHD         0\n",
      "dtype: int64\n"
     ]
    }
   ],
   "source": [
    "missing_values = df.isnull().sum()\n",
    "print(\"\\nMissing values in each column:\")\n",
    "print(missing_values)\n",
    "\n",
    "if missing_values.sum() > 0:\n",
    "    df.fillna(df.mean(), inplace=True)\n",
    "    print(\"\\nMissing values were found and have been filled with the mean of each column.\")\n",
    "\n",
    "    #df.dropna(inplace=True)\n",
    "    #print(\"\\nMissing values were found and have been dropped.\")\n",
    "    \n",
    "    print(\"\\nMissing values after handling:\")\n",
    "    print(df.isnull().sum())\n",
    "else:\n",
    "    print(\"\\nNo missing values found in the dataset.\")"
   ]
  },
  {
   "cell_type": "markdown",
   "id": "489c9b69-8890-43e9-b951-8dbe49fea53f",
   "metadata": {},
   "source": [
    "### Defining Features and Targets\n",
    "We create 2 numpy arrays $X$ and $y$ from the dataframe:\n",
    "+ $X$: Input data of the shape (number of samples, number of input features)\n",
    "+ $y$: Target variable of the shape (number of samples,)"
   ]
  },
  {
   "cell_type": "code",
   "execution_count": 58,
   "id": "4c5ad68e-4d4e-4cec-892e-747f0a05d91f",
   "metadata": {},
   "outputs": [
    {
     "name": "stdout",
     "output_type": "stream",
     "text": [
      "Shape of X:  (4240, 15) , Shape of y:  (4240,)\n"
     ]
    }
   ],
   "source": [
    "X = df.drop(columns=['TenYearCHD']).values\n",
    "y = df['TenYearCHD'].values\n",
    "\n",
    "print(\"Shape of X: \", X.shape, \", Shape of y: \", y.shape)"
   ]
  },
  {
   "cell_type": "markdown",
   "id": "2f3d9f97-2574-4663-af35-4697003b078e",
   "metadata": {},
   "source": [
    "### Splitting the Data\n",
    "We pre-process the data using min-max scaler to scale the input data $X$.\n",
    "After that, we split the data into a training dataset (**X_train** and **y_train**) and test dataset (**X_test and y_test**)"
   ]
  },
  {
   "cell_type": "code",
   "execution_count": 59,
   "id": "854952a7-6194-4883-8aee-aba9bb48d351",
   "metadata": {},
   "outputs": [
    {
     "name": "stdout",
     "output_type": "stream",
     "text": [
      "Shape of X_train:  (3180, 15) Shape of y_train:  (3180,)\n",
      "Shape of X_test:  (1060, 15) Shape of y_test:  (1060,)\n"
     ]
    }
   ],
   "source": [
    "import numpy as np\n",
    "def train_test_split(X, y, test_size=0.25, random_state=None):\n",
    "    if random_state is not None:\n",
    "        np.random.seed(random_state)\n",
    "    indices = np.arange(X.shape[0])\n",
    "    np.random.shuffle(indices)\n",
    "\n",
    "    split_index = int(X.shape[0] * (1 - test_size))\n",
    "\n",
    "    train_indices = indices[:split_index]\n",
    "    test_indices = indices[split_index:]\n",
    "\n",
    "    X_train = X[train_indices]\n",
    "    X_test = X[test_indices]\n",
    "    y_train = y[train_indices]\n",
    "    y_test = y[test_indices]\n",
    "\n",
    "    return X_train, X_test, y_train, y_test\n",
    "\n",
    "def min_max_scaler(X, feature_range=(0, 1)):\n",
    "    X_min = np.min(X, axis=0)\n",
    "    X_max = np.max(X, axis=0)\n",
    "\n",
    "    X_scaled = (X-X_min)/(X_max-X_min)\n",
    "\n",
    "    return X_scaled\n",
    "\n",
    "X = min_max_scaler(X)\n",
    "X_train, X_test, y_train, y_test = train_test_split(X, y, test_size=0.25, random_state=42)\n",
    "print(\"Shape of X_train: \",X_train.shape, \"Shape of y_train: \",y_train.shape)\n",
    "print(\"Shape of X_test: \",X_test.shape, \"Shape of y_test: \",y_test.shape)"
   ]
  },
  {
   "cell_type": "markdown",
   "id": "6fb18f5d-b57a-4c9e-943e-604ad44986e8",
   "metadata": {},
   "source": [
    "### Creating the Sigmoid Function\n",
    "For logistic regression, the model is represented as\n",
    "\n",
    "$$ f_{\\mathbf{w},b}(x) = g(\\mathbf{w}\\cdot \\mathbf{x} + b)$$\n",
    "where function $g$ is the sigmoid function. The sigmoid function is defined as:\n",
    "\n",
    "$$g(z) = \\frac{1}{1+e^{-z}}$$\n",
    "\n",
    "\n",
    "The function below returns the value of the sigmoid function for an input numpy array z. If the numpy array 'z' stores multiple numbers, we'd like to apply the sigmoid function to each value in the input array"
   ]
  },
  {
   "cell_type": "code",
   "execution_count": 60,
   "id": "f870dc6c-593f-447e-8de4-47d2a9d8eaed",
   "metadata": {},
   "outputs": [],
   "source": [
    "def sigmoid(z):\n",
    "    z = z.astype(float)\n",
    "    g = 1 / (1 + np.exp(-z))\n",
    "\n",
    "    return g"
   ]
  },
  {
   "cell_type": "markdown",
   "id": "d95a39c1-d8f2-4ff6-9fea-196c90a02fc1",
   "metadata": {},
   "source": [
    "### Computing the loss Function\n",
    "\n",
    "For logistic regression, the cost function is of the form\n",
    "\n",
    "$$ J(\\mathbf{w},b) = \\frac{1}{m}\\sum_{i=0}^{m-1} \\left[ loss(f_{\\mathbf{w},b}(\\mathbf{x}^{(i)}), y^{(i)}) \\right] \\tag{1}$$\n",
    "\n",
    "where\n",
    "* m is the number of training examples in the dataset\n",
    "\n",
    "\n",
    "* $loss(f_{\\mathbf{w},b}(\\mathbf{x}^{(i)}), y^{(i)})$ is the cost for a single data point, which is -\n",
    "\n",
    "    $$loss(f_{\\mathbf{w},b}(\\mathbf{x}^{(i)}), y^{(i)}) = (-y^{(i)} \\log\\left(f_{\\mathbf{w},b}\\left( \\mathbf{x}^{(i)} \\right) \\right) - \\left( 1 - y^{(i)}\\right) \\log \\left( 1 - f_{\\mathbf{w},b}\\left( \\mathbf{x}^{(i)} \\right) \\right) \\tag{2}$$\n",
    "    \n",
    "    \n",
    "*  $f_{\\mathbf{w},b}(\\mathbf{x}^{(i)})$ is the model's prediction, while $y^{(i)}$, which is the actual label\n",
    "\n",
    "*  $f_{\\mathbf{w},b}(\\mathbf{x}^{(i)}) = g(\\mathbf{w} \\cdot \\mathbf{x^{(i)}} + b)$ where function $g$ is the sigmoid function.\n",
    "\n",
    "Here,\n",
    "\n",
    " **X**: input features\n",
    "\n",
    " **y**:  class labels\n",
    "\n",
    " **w**: Parameters of the logistic regression model, (excluding the bias), a numpy array of the shape(1, number of features)\n",
    "\n",
    " **b**:  Bias value of the logistic regression model\n",
    "\n",
    "We use the Sigmoid function implemented above."
   ]
  },
  {
   "cell_type": "code",
   "execution_count": 61,
   "id": "a6c43239-96f2-463d-b5b5-1884867e340d",
   "metadata": {},
   "outputs": [],
   "source": [
    "def loss_function(X, y, w, b):\n",
    "    m, n = X.shape\n",
    "\n",
    "    z = np.dot(X, w) + b\n",
    "    fx = sigmoid(z)\n",
    "   \n",
    "    cost = (-y * np.log(fx) - (1 - y) * np.log(1 - fx))  \n",
    "    total_cost = np.sum(cost) / m\n",
    "\n",
    "\n",
    "    return total_cost"
   ]
  },
  {
   "cell_type": "markdown",
   "id": "2ba640be-4614-4456-b456-3bca199e7cff",
   "metadata": {},
   "source": [
    "### 2.4. Computing the Gradient of the Loss\n",
    "\n",
    "The gradient descent algorithm is:\n",
    "\n",
    "$$\\begin{align*}& \\text{repeat until convergence:} \\; \\lbrace \\newline \\; & b := b -  \\alpha \\frac{\\partial J(\\mathbf{w},b)}{\\partial b} \\newline       \\; & w_j := w_j -  \\alpha \\frac{\\partial J(\\mathbf{w},b)}{\\partial w_j} \\tag{1}  \\; & \\text{for j := 0..n-1}\\newline & \\rbrace\\end{align*}$$\n",
    "\n",
    "where, parameters $b$, $w_j$ are all updated simultaniously\n",
    "\n",
    "The `compute_gradient_logistic_regression` function computes $\\frac{\\partial J(\\mathbf{w},b)}{\\partial w}$, $\\frac{\\partial J(\\mathbf{w},b)}{\\partial b}$ from equations (2) and (3) below.\n",
    "\n",
    "$$\n",
    "\\frac{\\partial J(\\mathbf{w},b)}{\\partial b}  = \\frac{1}{m} \\sum\\limits_{i = 0}^{m-1} (f_{\\mathbf{w},b}(\\mathbf{x}^{(i)}) - \\mathbf{y}^{(i)}) \\tag{2}\n",
    "$$\n",
    "$$\n",
    "\\frac{\\partial J(\\mathbf{w},b)}{\\partial w_j}  = \\frac{1}{m} \\sum\\limits_{i = 0}^{m-1} (f_{\\mathbf{w},b}(\\mathbf{x}^{(i)}) - \\mathbf{y}^{(i)})x_{j}^{(i)} \\tag{3}\n",
    "$$\n",
    "* m is the number of training examples in the dataset\n",
    "\n",
    "    \n",
    "*  $f_{\\mathbf{w},b}(x^{(i)})$ is the model's prediction, while $y^{(i)}$ is the actual label"
   ]
  },
  {
   "cell_type": "code",
   "execution_count": 62,
   "id": "81b3238d-b709-4100-a0bd-dccc3dd93279",
   "metadata": {},
   "outputs": [],
   "source": [
    "def compute_gradient_logistic_regression(X, y, w, b):\n",
    "    m, n = X.shape\n",
    "    dj_dw = np.zeros(w.shape)\n",
    "    dj_db = 0.0\n",
    "\n",
    "    z = np.dot(X, w) + b\n",
    "    \n",
    "    fx = sigmoid(z)\n",
    "     \n",
    "    loss = fx - y\n",
    "\n",
    "    dj_dw = np.dot(loss.T, X).T / m\n",
    "    dj_db = np.sum(loss) / m\n",
    "\n",
    "    return dj_db, dj_dw"
   ]
  },
  {
   "cell_type": "markdown",
   "id": "29a6180a-9d68-4a2c-969d-1fe397585991",
   "metadata": {},
   "source": [
    "### Training the model using Batch Gradient Descent\n",
    "\n",
    "The batch gradient descent algorithm for logistic regression trains and learns the parameters of the logistic regression model. We use ```loss_function``` and ```compute_gradient_logistic regression``` functions that we implemented above.\n",
    "\n",
    "In this ```batch_gradient_descent_logistic_regression``` function, we compute the gradient for the training samples and update the parameters $w$ and $b$ in every iteration:\n",
    "\n",
    "+ $w \\leftarrow w - \\alpha \\frac{\\partial L}{\\partial w}$\n",
    "\n",
    "+ $b \\leftarrow b - \\alpha \\frac{\\partial L}{\\partial b}$\n",
    "\n",
    "Additionally, we compute the loss function values in every iteration and store it in the list variable ```loss_hist``` and print the loss value after every 100 iterations during the training process."
   ]
  },
  {
   "cell_type": "code",
   "execution_count": 63,
   "id": "39113e64-7836-4226-9a77-84e22c4cef66",
   "metadata": {},
   "outputs": [],
   "source": [
    "def batch_gradient_descent_logistic_regression(X, y, w_in, b_in, alpha, num_iters):\n",
    "    m = len(X)\n",
    "    loss_hist = []\n",
    "\n",
    "    for i in range(num_iters ):\n",
    "        dj_db, dj_dw = compute_gradient_logistic_regression(X, y, w_in, b_in)\n",
    "\n",
    "    \n",
    "        w_in -= alpha * dj_dw   \n",
    "        b_in -= alpha * dj_db\n",
    "        \n",
    "        loss = loss_function(X, y, w_in, b_in)\n",
    "        loss_hist.append(loss)\n",
    "\n",
    "        if (i % 100 == 0):\n",
    "            print(f\"Iteration: {i} Loss: {loss}\")\n",
    "    \n",
    "    return w_in, b_in, loss_hist"
   ]
  },
  {
   "cell_type": "markdown",
   "id": "51b26a34-af7b-4758-bbff-c8807cc018b0",
   "metadata": {},
   "source": [
    "### Initialising parameters\n",
    "Now we intialize the model parameters ($w$ and $b$) and learning rate (**alpha**). The learning rate **alpha** is randomly initialized between 0.01 and 0.09. To randomly initialize the learning rate, we set a seed and use the random function."
   ]
  },
  {
   "cell_type": "code",
   "execution_count": 64,
   "id": "2bcb7a85-44c4-40e2-a30c-c5aa453b200b",
   "metadata": {},
   "outputs": [],
   "source": [
    "random_seed = 32\n",
    "np.random.seed(random_seed)\n",
    "\n",
    "def initialize_parameters():\n",
    "    initial_w = np.random.random(size=(X_train.shape[1], ))\n",
    "    initial_b = random.random()\n",
    "    alpha = random.uniform(0.01, 0.09)\n",
    "\n",
    "    return initial_w,initial_b,alpha"
   ]
  },
  {
   "cell_type": "markdown",
   "id": "42b53d9e-7a95-450f-8871-805a35b17fe7",
   "metadata": {},
   "source": [
    "### Running the batch gradient descent\n",
    "We run the batch gradient algorithm for num_iterations=1000 to train the logistic regression model. "
   ]
  },
  {
   "cell_type": "code",
   "execution_count": 65,
   "id": "44ff8562-6270-4881-80fd-4ac8d667b6c7",
   "metadata": {},
   "outputs": [
    {
     "name": "stdout",
     "output_type": "stream",
     "text": [
      "Iteration: 0 Loss: 2.279656716301497\n",
      "Iteration: 100 Loss: 0.4441548648941337\n",
      "Iteration: 200 Loss: 0.4213812478033982\n",
      "Iteration: 300 Loss: 0.4180924845740921\n",
      "Iteration: 400 Loss: 0.41580569251059724\n",
      "Iteration: 500 Loss: 0.4138893293178354\n",
      "Iteration: 600 Loss: 0.41224631619342855\n",
      "Iteration: 700 Loss: 0.4108179994117646\n",
      "Iteration: 800 Loss: 0.4095605324194797\n",
      "Iteration: 900 Loss: 0.40844053996648977\n",
      "optimized parameter values w: [ 0.31613495  0.02667715 -0.29874617 -0.12169283  0.50699616  0.7527268\n",
      "  0.15141937  0.67015523  0.62790266  0.16729672 -0.20081634 -0.34014491\n",
      "  0.10551024 -0.25957338  0.33555305]\n",
      "optimized parameter value b: -1.8582028613791528\n"
     ]
    }
   ],
   "source": [
    "initial_w, initial_b, alpha = initialize_parameters()\n",
    "num_iterations = 1000\n",
    "\n",
    "w, b, loss_hist = batch_gradient_descent_logistic_regression(X_train ,y_train, initial_w, initial_b, alpha, num_iterations)\n",
    "print(\"optimized parameter values w:\", w)\n",
    "print(\"optimized parameter value b:\", b)"
   ]
  },
  {
   "cell_type": "markdown",
   "id": "b2183f0f-9f8e-448c-990e-f61628a10a5f",
   "metadata": {},
   "source": [
    "### Final Train and Test Accuracy\n",
    "After the logistic regression model is trained, we will predict the class labels for the training set and test set and we will compute the accuracy.\n",
    "\n",
    "- First we to compute the prediction from the model $f(x^{(i)}) = g(w \\cdot x^{(i)})$ for every example\n",
    "\n",
    "- We interpret the output of the model ($f(x^{(i)})$) as the probability that $y^{(i)}=1$ given $x^{(i)}$ and parameterized by $w$.\n",
    "- Therefore, to get a final prediction ($y^{(i)}=0$ or $y^{(i)}=1$) from the logistic regression model, we use the following heuristic -\n",
    "\n",
    "  if $f(x^{(i)}) >= 0.5$, predict $y^{(i)}=1$\n",
    "  \n",
    "  if $f(x^{(i)}) < 0.5$, predict $y^{(i)}=0$"
   ]
  },
  {
   "cell_type": "code",
   "execution_count": 66,
   "id": "422c4d29-ad47-4129-8ce1-fbab3eb958f6",
   "metadata": {},
   "outputs": [],
   "source": [
    "def predict(X, w, b):\n",
    "      m, n = X.shape\n",
    "      p = np.zeros(m)\n",
    "    \n",
    "      z = np.dot(X,w)+b\n",
    "      y_predict = sigmoid(z)\n",
    "      \n",
    "      for i in range(m):\n",
    "          if y_predict[i]>=0.5:\n",
    "              p[i] = 1\n",
    "          else:\n",
    "              p[i]\n",
    "              \n",
    "      return p"
   ]
  },
  {
   "cell_type": "markdown",
   "id": "8c252a6b-2a1e-485d-9ed7-6930cbe197ca",
   "metadata": {},
   "source": [
    "Now let's use this to compute the accuracy on the training and test datasets"
   ]
  },
  {
   "cell_type": "code",
   "execution_count": 67,
   "id": "8c6bd51f-d1e5-47c4-8333-bbfe9052998d",
   "metadata": {},
   "outputs": [
    {
     "name": "stdout",
     "output_type": "stream",
     "text": [
      "Train Accuracy: 84.748428\n",
      "Test Accuracy: 85.094340\n"
     ]
    }
   ],
   "source": [
    "p_train = predict(X_train, w,b)\n",
    "print('Train Accuracy: %f'%(np.mean(p_train == y_train) * 100))\n",
    "p_test = predict(X_test, w,b)\n",
    "print('Test Accuracy: %f'%(np.mean(p_test == y_test) * 100))"
   ]
  },
  {
   "cell_type": "markdown",
   "id": "19c90cde",
   "metadata": {},
   "source": [
    "Now, we plot the loss function values for every iteration."
   ]
  },
  {
   "cell_type": "code",
   "execution_count": 68,
   "id": "bbd1044c-9cae-4cc0-a1fc-2e84abe01a72",
   "metadata": {},
   "outputs": [
    {
     "data": {
      "image/png": "[encoded data removed]",
      "text/plain": [
       "<Figure size 640x480 with 1 Axes>"
      ]
     },
     "metadata": {},
     "output_type": "display_data"
    }
   ],
   "source": [
    "loss_plot = [loss_hist[i] for i in range(len(loss_hist))]\n",
    "plt.xlabel(\"Iterations\")\n",
    "plt.ylabel(\"Loss function\")\n",
    "plt.plot(loss_plot)\n",
    "plt.show()"
   ]
  },
  {
   "cell_type": "markdown",
   "id": "d64fdfdd",
   "metadata": {},
   "source": [
    "### Load Y_pred and Y_true"
   ]
  },
  {
   "cell_type": "code",
   "execution_count": 69,
   "id": "886d6285",
   "metadata": {},
   "outputs": [],
   "source": [
    "y_pred = predict(X_test,w,b)\n",
    "y_true = y_test"
   ]
  },
  {
   "cell_type": "markdown",
   "id": "a2730f25",
   "metadata": {},
   "source": [
    "### Confusion Matrix"
   ]
  },
  {
   "cell_type": "code",
   "execution_count": 70,
   "id": "4c568600",
   "metadata": {},
   "outputs": [
    {
     "data": {
      "image/png": "[encoded data removed]",
      "text/plain": [
       "<Figure size 640x480 with 2 Axes>"
      ]
     },
     "metadata": {},
     "output_type": "display_data"
    }
   ],
   "source": [
    "def confusion_matrix(y_true, y_pred):\n",
    "    unique_labels = np.unique(np.concatenate((y_true, y_pred)))\n",
    "    matrix = np.zeros((len(unique_labels), len(unique_labels)), dtype=int)\n",
    "    label_to_index = {label: index for index, label in enumerate(unique_labels)}\n",
    "    \n",
    "    for true, pred in zip(y_true, y_pred):\n",
    "        matrix[label_to_index[true], label_to_index[pred]] += 1\n",
    "    \n",
    "    return matrix\n",
    "\n",
    "\n",
    "conf_matrix = confusion_matrix(y_true, y_pred)\n",
    "\n",
    "plt.imshow(conf_matrix, interpolation='nearest', cmap=plt.cm.Blues)\n",
    "plt.title('Confusion Matrix')\n",
    "plt.colorbar()\n",
    "\n",
    "classes = np.unique(y_true)\n",
    "tick_marks = np.arange(len(classes))\n",
    "plt.xticks(tick_marks, classes, rotation=45)\n",
    "plt.yticks(tick_marks, classes)\n",
    "\n",
    "thresh = conf_matrix.max() / 2.\n",
    "for i, j in np.ndindex(conf_matrix.shape):\n",
    "    plt.text(j, i, format(conf_matrix[i, j], 'd'),\n",
    "             horizontalalignment=\"center\",\n",
    "             color=\"white\" if conf_matrix[i, j] > thresh else \"black\")\n",
    "\n",
    "plt.ylabel('True label')\n",
    "plt.xlabel('Predicted label')\n",
    "plt.tight_layout()\n",
    "\n",
    "plt.savefig('confusion_matrix.png')\n",
    "\n",
    "plt.show()"
   ]
  },
  {
   "cell_type": "markdown",
   "id": "22a63303",
   "metadata": {},
   "source": [
    "### Accuracy"
   ]
  },
  {
   "cell_type": "code",
   "execution_count": 71,
   "id": "b15db37a",
   "metadata": {},
   "outputs": [
    {
     "name": "stdout",
     "output_type": "stream",
     "text": [
      "Accuracy: 0.8509433962264151\n"
     ]
    }
   ],
   "source": [
    "def accuracy_score(y_true, y_pred):\n",
    "    correct_predictions = np.sum(np.array(y_true) == np.array(y_pred))\n",
    "    total_predictions = len(y_true)\n",
    "    accuracy = correct_predictions / total_predictions\n",
    "    return accuracy\n",
    "\n",
    "accuracy = accuracy_score(y_true, y_pred)\n",
    "print(\"Accuracy:\", accuracy)"
   ]
  },
  {
   "cell_type": "markdown",
   "id": "5e5f0599",
   "metadata": {},
   "source": [
    "### Precision Score"
   ]
  },
  {
   "cell_type": "code",
   "execution_count": 72,
   "id": "c0afb79c",
   "metadata": {},
   "outputs": [
    {
     "name": "stdout",
     "output_type": "stream",
     "text": [
      "Precision: 0.9254013220018886\n"
     ]
    }
   ],
   "source": [
    "def precision_score(y_true, y_pred):\n",
    "    cm = confusion_matrix(y_true, y_pred)\n",
    "    precision = np.diag(cm) / np.sum(cm, axis=0)\n",
    "    return np.nanmean(precision)\n",
    "\n",
    "precision = precision_score(y_true, y_pred)\n",
    "print(\"Precision:\", precision)"
   ]
  },
  {
   "cell_type": "markdown",
   "id": "c128030b",
   "metadata": {},
   "source": [
    "### Recall Score"
   ]
  },
  {
   "cell_type": "code",
   "execution_count": 73,
   "id": "8d964fc5",
   "metadata": {},
   "outputs": [
    {
     "name": "stdout",
     "output_type": "stream",
     "text": [
      "Recall: 0.5031446540880503\n"
     ]
    }
   ],
   "source": [
    "def recall_score(y_true, y_pred):\n",
    "    cm = confusion_matrix(y_true, y_pred)\n",
    "    recall = np.diag(cm) / np.sum(cm, axis=1)   \n",
    "    return np.nanmean(recall)\n",
    "\n",
    "recall = recall_score(y_true, y_pred)\n",
    "print(\"Recall:\", recall)\n"
   ]
  },
  {
   "cell_type": "markdown",
   "id": "2c2d7596",
   "metadata": {},
   "source": [
    "### F1 Score"
   ]
  },
  {
   "cell_type": "code",
   "execution_count": 74,
   "id": "05f67540",
   "metadata": {},
   "outputs": [
    {
     "name": "stdout",
     "output_type": "stream",
     "text": [
      "F1 Score: 0.6518666334081651\n"
     ]
    }
   ],
   "source": [
    "\n",
    "\n",
    "def f1_score(y_true, y_pred):\n",
    "    precision = precision_score(y_true, y_pred)\n",
    "    recall = recall_score(y_true, y_pred)\n",
    "    f1 = 2 * (precision * recall) / (precision + recall)\n",
    "    return f1\n",
    "\n",
    "f1 = f1_score(y_true, y_pred)\n",
    "print(\"F1 Score:\", f1)\n"
   ]
  }
 ],
 "metadata": {
  "kernelspec": {
   "display_name": "Python 3 (ipykernel)",
   "language": "python",
   "name": "python3"
  },
  "language_info": {
   "codemirror_mode": {
    "name": "ipython",
    "version": 3
   },
   "file_extension": ".py",
   "mimetype": "text/x-python",
   "name": "python",
   "nbconvert_exporter": "python",
   "pygments_lexer": "ipython3",
   "version": "3.12.3"
  }
 },
 "nbformat": 4,
 "nbformat_minor": 5
}
